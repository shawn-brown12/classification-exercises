{
 "cells": [
  {
   "cell_type": "code",
   "execution_count": 1,
   "id": "7318a938",
   "metadata": {},
   "outputs": [],
   "source": [
    "import pandas as pd\n",
    "import numpy as np\n",
    "from env import get_connection\n",
    "import seaborn as sns\n",
    "import matplotlib.pyplot as plt\n",
    "from pydataset import data\n",
    "import os\n",
    "from scipy import stats\n",
    "\n",
    "#turn off the pink warning boxes\n",
    "import warnings\n",
    "warnings.filterwarnings('ignore')\n",
    "\n",
    "from sklearn.model_selection import train_test_split\n",
    "from sklearn.impute import SimpleImputer\n",
    "\n",
    "import acquire\n",
    "import prepare\n",
    "\n",
    "from env import get_connection\n",
    "pd.options.display.max_columns = None"
   ]
  },
  {
   "cell_type": "markdown",
   "id": "403c07f4",
   "metadata": {},
   "source": [
    "In a jupyter notebook, classification_exercises.ipynb, use a python module (pydata or seaborn datasets) containing datasets as a source from the iris data. Create a pandas dataframe, df_iris, from this data.\n",
    "\n",
    "print the first 3 rows\n"
   ]
  },
  {
   "cell_type": "code",
   "execution_count": 2,
   "id": "523567bb",
   "metadata": {},
   "outputs": [
    {
     "data": {
      "text/html": [
       "<div>\n",
       "<style scoped>\n",
       "    .dataframe tbody tr th:only-of-type {\n",
       "        vertical-align: middle;\n",
       "    }\n",
       "\n",
       "    .dataframe tbody tr th {\n",
       "        vertical-align: top;\n",
       "    }\n",
       "\n",
       "    .dataframe thead th {\n",
       "        text-align: right;\n",
       "    }\n",
       "</style>\n",
       "<table border=\"1\" class=\"dataframe\">\n",
       "  <thead>\n",
       "    <tr style=\"text-align: right;\">\n",
       "      <th></th>\n",
       "      <th>Sepal.Length</th>\n",
       "      <th>Sepal.Width</th>\n",
       "      <th>Petal.Length</th>\n",
       "      <th>Petal.Width</th>\n",
       "      <th>Species</th>\n",
       "    </tr>\n",
       "  </thead>\n",
       "  <tbody>\n",
       "    <tr>\n",
       "      <th>1</th>\n",
       "      <td>5.1</td>\n",
       "      <td>3.5</td>\n",
       "      <td>1.4</td>\n",
       "      <td>0.2</td>\n",
       "      <td>setosa</td>\n",
       "    </tr>\n",
       "    <tr>\n",
       "      <th>2</th>\n",
       "      <td>4.9</td>\n",
       "      <td>3.0</td>\n",
       "      <td>1.4</td>\n",
       "      <td>0.2</td>\n",
       "      <td>setosa</td>\n",
       "    </tr>\n",
       "    <tr>\n",
       "      <th>3</th>\n",
       "      <td>4.7</td>\n",
       "      <td>3.2</td>\n",
       "      <td>1.3</td>\n",
       "      <td>0.2</td>\n",
       "      <td>setosa</td>\n",
       "    </tr>\n",
       "  </tbody>\n",
       "</table>\n",
       "</div>"
      ],
      "text/plain": [
       "   Sepal.Length  Sepal.Width  Petal.Length  Petal.Width Species\n",
       "1           5.1          3.5           1.4          0.2  setosa\n",
       "2           4.9          3.0           1.4          0.2  setosa\n",
       "3           4.7          3.2           1.3          0.2  setosa"
      ]
     },
     "execution_count": 2,
     "metadata": {},
     "output_type": "execute_result"
    }
   ],
   "source": [
    "df = data('iris')\n",
    "df.head(3)"
   ]
  },
  {
   "cell_type": "markdown",
   "id": "cb1839b9",
   "metadata": {},
   "source": [
    "print the number of rows and columns (shape)\n"
   ]
  },
  {
   "cell_type": "code",
   "execution_count": 3,
   "id": "23c005d6",
   "metadata": {},
   "outputs": [
    {
     "data": {
      "text/plain": [
       "(150, 5)"
      ]
     },
     "execution_count": 3,
     "metadata": {},
     "output_type": "execute_result"
    }
   ],
   "source": [
    "df.shape"
   ]
  },
  {
   "cell_type": "markdown",
   "id": "c291b8c6",
   "metadata": {},
   "source": [
    "print the column names\n"
   ]
  },
  {
   "cell_type": "code",
   "execution_count": 4,
   "id": "5b6a099a",
   "metadata": {},
   "outputs": [
    {
     "data": {
      "text/plain": [
       "Index(['Sepal.Length', 'Sepal.Width', 'Petal.Length', 'Petal.Width',\n",
       "       'Species'],\n",
       "      dtype='object')"
      ]
     },
     "execution_count": 4,
     "metadata": {},
     "output_type": "execute_result"
    }
   ],
   "source": [
    "df.columns"
   ]
  },
  {
   "cell_type": "markdown",
   "id": "9b16d2ca",
   "metadata": {},
   "source": [
    "print the data type of each column\n"
   ]
  },
  {
   "cell_type": "code",
   "execution_count": 5,
   "id": "9142f3ee",
   "metadata": {},
   "outputs": [
    {
     "name": "stdout",
     "output_type": "stream",
     "text": [
      "<class 'pandas.core.frame.DataFrame'>\n",
      "Int64Index: 150 entries, 1 to 150\n",
      "Data columns (total 5 columns):\n",
      " #   Column        Non-Null Count  Dtype  \n",
      "---  ------        --------------  -----  \n",
      " 0   Sepal.Length  150 non-null    float64\n",
      " 1   Sepal.Width   150 non-null    float64\n",
      " 2   Petal.Length  150 non-null    float64\n",
      " 3   Petal.Width   150 non-null    float64\n",
      " 4   Species       150 non-null    object \n",
      "dtypes: float64(4), object(1)\n",
      "memory usage: 7.0+ KB\n"
     ]
    }
   ],
   "source": [
    "df.info()"
   ]
  },
  {
   "cell_type": "markdown",
   "id": "d659b519",
   "metadata": {},
   "source": [
    "print the summary statistics for each of the numeric variables\n"
   ]
  },
  {
   "cell_type": "code",
   "execution_count": 6,
   "id": "59796197",
   "metadata": {},
   "outputs": [
    {
     "data": {
      "text/html": [
       "<div>\n",
       "<style scoped>\n",
       "    .dataframe tbody tr th:only-of-type {\n",
       "        vertical-align: middle;\n",
       "    }\n",
       "\n",
       "    .dataframe tbody tr th {\n",
       "        vertical-align: top;\n",
       "    }\n",
       "\n",
       "    .dataframe thead th {\n",
       "        text-align: right;\n",
       "    }\n",
       "</style>\n",
       "<table border=\"1\" class=\"dataframe\">\n",
       "  <thead>\n",
       "    <tr style=\"text-align: right;\">\n",
       "      <th></th>\n",
       "      <th>count</th>\n",
       "      <th>mean</th>\n",
       "      <th>std</th>\n",
       "      <th>min</th>\n",
       "      <th>25%</th>\n",
       "      <th>50%</th>\n",
       "      <th>75%</th>\n",
       "      <th>max</th>\n",
       "    </tr>\n",
       "  </thead>\n",
       "  <tbody>\n",
       "    <tr>\n",
       "      <th>Sepal.Length</th>\n",
       "      <td>150.0</td>\n",
       "      <td>5.843333</td>\n",
       "      <td>0.828066</td>\n",
       "      <td>4.3</td>\n",
       "      <td>5.1</td>\n",
       "      <td>5.80</td>\n",
       "      <td>6.4</td>\n",
       "      <td>7.9</td>\n",
       "    </tr>\n",
       "    <tr>\n",
       "      <th>Sepal.Width</th>\n",
       "      <td>150.0</td>\n",
       "      <td>3.057333</td>\n",
       "      <td>0.435866</td>\n",
       "      <td>2.0</td>\n",
       "      <td>2.8</td>\n",
       "      <td>3.00</td>\n",
       "      <td>3.3</td>\n",
       "      <td>4.4</td>\n",
       "    </tr>\n",
       "    <tr>\n",
       "      <th>Petal.Length</th>\n",
       "      <td>150.0</td>\n",
       "      <td>3.758000</td>\n",
       "      <td>1.765298</td>\n",
       "      <td>1.0</td>\n",
       "      <td>1.6</td>\n",
       "      <td>4.35</td>\n",
       "      <td>5.1</td>\n",
       "      <td>6.9</td>\n",
       "    </tr>\n",
       "    <tr>\n",
       "      <th>Petal.Width</th>\n",
       "      <td>150.0</td>\n",
       "      <td>1.199333</td>\n",
       "      <td>0.762238</td>\n",
       "      <td>0.1</td>\n",
       "      <td>0.3</td>\n",
       "      <td>1.30</td>\n",
       "      <td>1.8</td>\n",
       "      <td>2.5</td>\n",
       "    </tr>\n",
       "  </tbody>\n",
       "</table>\n",
       "</div>"
      ],
      "text/plain": [
       "              count      mean       std  min  25%   50%  75%  max\n",
       "Sepal.Length  150.0  5.843333  0.828066  4.3  5.1  5.80  6.4  7.9\n",
       "Sepal.Width   150.0  3.057333  0.435866  2.0  2.8  3.00  3.3  4.4\n",
       "Petal.Length  150.0  3.758000  1.765298  1.0  1.6  4.35  5.1  6.9\n",
       "Petal.Width   150.0  1.199333  0.762238  0.1  0.3  1.30  1.8  2.5"
      ]
     },
     "execution_count": 6,
     "metadata": {},
     "output_type": "execute_result"
    }
   ],
   "source": [
    "df.describe().T"
   ]
  },
  {
   "cell_type": "markdown",
   "id": "4421033c",
   "metadata": {},
   "source": [
    "Read the data from this google sheet into a dataframe, df_google.\n",
    "\n",
    "print the first 3 rows\n"
   ]
  },
  {
   "cell_type": "code",
   "execution_count": 7,
   "id": "137e4856",
   "metadata": {},
   "outputs": [
    {
     "data": {
      "text/html": [
       "<div>\n",
       "<style scoped>\n",
       "    .dataframe tbody tr th:only-of-type {\n",
       "        vertical-align: middle;\n",
       "    }\n",
       "\n",
       "    .dataframe tbody tr th {\n",
       "        vertical-align: top;\n",
       "    }\n",
       "\n",
       "    .dataframe thead th {\n",
       "        text-align: right;\n",
       "    }\n",
       "</style>\n",
       "<table border=\"1\" class=\"dataframe\">\n",
       "  <thead>\n",
       "    <tr style=\"text-align: right;\">\n",
       "      <th></th>\n",
       "      <th>Unnamed: 0</th>\n",
       "      <th>passenger_id</th>\n",
       "      <th>survived</th>\n",
       "      <th>pclass</th>\n",
       "      <th>sex</th>\n",
       "      <th>age</th>\n",
       "      <th>sibsp</th>\n",
       "      <th>parch</th>\n",
       "      <th>fare</th>\n",
       "      <th>embarked</th>\n",
       "      <th>class</th>\n",
       "      <th>deck</th>\n",
       "      <th>embark_town</th>\n",
       "      <th>alone</th>\n",
       "    </tr>\n",
       "  </thead>\n",
       "  <tbody>\n",
       "    <tr>\n",
       "      <th>0</th>\n",
       "      <td>0</td>\n",
       "      <td>0</td>\n",
       "      <td>0</td>\n",
       "      <td>3</td>\n",
       "      <td>male</td>\n",
       "      <td>22.0</td>\n",
       "      <td>1</td>\n",
       "      <td>0</td>\n",
       "      <td>7.2500</td>\n",
       "      <td>S</td>\n",
       "      <td>Third</td>\n",
       "      <td>NaN</td>\n",
       "      <td>Southampton</td>\n",
       "      <td>0</td>\n",
       "    </tr>\n",
       "    <tr>\n",
       "      <th>1</th>\n",
       "      <td>1</td>\n",
       "      <td>1</td>\n",
       "      <td>1</td>\n",
       "      <td>1</td>\n",
       "      <td>female</td>\n",
       "      <td>38.0</td>\n",
       "      <td>1</td>\n",
       "      <td>0</td>\n",
       "      <td>71.2833</td>\n",
       "      <td>C</td>\n",
       "      <td>First</td>\n",
       "      <td>C</td>\n",
       "      <td>Cherbourg</td>\n",
       "      <td>0</td>\n",
       "    </tr>\n",
       "    <tr>\n",
       "      <th>2</th>\n",
       "      <td>2</td>\n",
       "      <td>2</td>\n",
       "      <td>1</td>\n",
       "      <td>3</td>\n",
       "      <td>female</td>\n",
       "      <td>26.0</td>\n",
       "      <td>0</td>\n",
       "      <td>0</td>\n",
       "      <td>7.9250</td>\n",
       "      <td>S</td>\n",
       "      <td>Third</td>\n",
       "      <td>NaN</td>\n",
       "      <td>Southampton</td>\n",
       "      <td>1</td>\n",
       "    </tr>\n",
       "  </tbody>\n",
       "</table>\n",
       "</div>"
      ],
      "text/plain": [
       "   Unnamed: 0  passenger_id  survived  pclass     sex   age  sibsp  parch  \\\n",
       "0           0             0         0       3    male  22.0      1      0   \n",
       "1           1             1         1       1  female  38.0      1      0   \n",
       "2           2             2         1       3  female  26.0      0      0   \n",
       "\n",
       "      fare embarked  class deck  embark_town  alone  \n",
       "0   7.2500        S  Third  NaN  Southampton      0  \n",
       "1  71.2833        C  First    C    Cherbourg      0  \n",
       "2   7.9250        S  Third  NaN  Southampton      1  "
      ]
     },
     "execution_count": 7,
     "metadata": {},
     "output_type": "execute_result"
    }
   ],
   "source": [
    "df = pd.read_csv('titanic.csv')\n",
    "df.head(3)"
   ]
  },
  {
   "cell_type": "markdown",
   "id": "552eeb5f",
   "metadata": {},
   "source": [
    "print the number of rows and columns\n"
   ]
  },
  {
   "cell_type": "code",
   "execution_count": 8,
   "id": "ec71b40e",
   "metadata": {},
   "outputs": [
    {
     "data": {
      "text/plain": [
       "(891, 14)"
      ]
     },
     "execution_count": 8,
     "metadata": {},
     "output_type": "execute_result"
    }
   ],
   "source": [
    "df.shape"
   ]
  },
  {
   "cell_type": "markdown",
   "id": "37db5f3a",
   "metadata": {},
   "source": [
    "print the column names\n"
   ]
  },
  {
   "cell_type": "code",
   "execution_count": 9,
   "id": "91bb87ae",
   "metadata": {},
   "outputs": [
    {
     "data": {
      "text/plain": [
       "Index(['Unnamed: 0', 'passenger_id', 'survived', 'pclass', 'sex', 'age',\n",
       "       'sibsp', 'parch', 'fare', 'embarked', 'class', 'deck', 'embark_town',\n",
       "       'alone'],\n",
       "      dtype='object')"
      ]
     },
     "execution_count": 9,
     "metadata": {},
     "output_type": "execute_result"
    }
   ],
   "source": [
    "df.columns"
   ]
  },
  {
   "cell_type": "markdown",
   "id": "e993dc6e",
   "metadata": {},
   "source": [
    "print the data type of each column\n"
   ]
  },
  {
   "cell_type": "code",
   "execution_count": 10,
   "id": "c0aaaaaa",
   "metadata": {},
   "outputs": [
    {
     "name": "stdout",
     "output_type": "stream",
     "text": [
      "<class 'pandas.core.frame.DataFrame'>\n",
      "RangeIndex: 891 entries, 0 to 890\n",
      "Data columns (total 14 columns):\n",
      " #   Column        Non-Null Count  Dtype  \n",
      "---  ------        --------------  -----  \n",
      " 0   Unnamed: 0    891 non-null    int64  \n",
      " 1   passenger_id  891 non-null    int64  \n",
      " 2   survived      891 non-null    int64  \n",
      " 3   pclass        891 non-null    int64  \n",
      " 4   sex           891 non-null    object \n",
      " 5   age           714 non-null    float64\n",
      " 6   sibsp         891 non-null    int64  \n",
      " 7   parch         891 non-null    int64  \n",
      " 8   fare          891 non-null    float64\n",
      " 9   embarked      889 non-null    object \n",
      " 10  class         891 non-null    object \n",
      " 11  deck          203 non-null    object \n",
      " 12  embark_town   889 non-null    object \n",
      " 13  alone         891 non-null    int64  \n",
      "dtypes: float64(2), int64(7), object(5)\n",
      "memory usage: 97.6+ KB\n"
     ]
    }
   ],
   "source": [
    "df.info()"
   ]
  },
  {
   "cell_type": "markdown",
   "id": "9dc6bfbd",
   "metadata": {},
   "source": [
    "print the summary statistics for each of the numeric variables\n"
   ]
  },
  {
   "cell_type": "code",
   "execution_count": 11,
   "id": "e7453180",
   "metadata": {},
   "outputs": [
    {
     "data": {
      "text/html": [
       "<div>\n",
       "<style scoped>\n",
       "    .dataframe tbody tr th:only-of-type {\n",
       "        vertical-align: middle;\n",
       "    }\n",
       "\n",
       "    .dataframe tbody tr th {\n",
       "        vertical-align: top;\n",
       "    }\n",
       "\n",
       "    .dataframe thead th {\n",
       "        text-align: right;\n",
       "    }\n",
       "</style>\n",
       "<table border=\"1\" class=\"dataframe\">\n",
       "  <thead>\n",
       "    <tr style=\"text-align: right;\">\n",
       "      <th></th>\n",
       "      <th>count</th>\n",
       "      <th>mean</th>\n",
       "      <th>std</th>\n",
       "      <th>min</th>\n",
       "      <th>25%</th>\n",
       "      <th>50%</th>\n",
       "      <th>75%</th>\n",
       "      <th>max</th>\n",
       "    </tr>\n",
       "  </thead>\n",
       "  <tbody>\n",
       "    <tr>\n",
       "      <th>Unnamed: 0</th>\n",
       "      <td>891.0</td>\n",
       "      <td>445.000000</td>\n",
       "      <td>257.353842</td>\n",
       "      <td>0.00</td>\n",
       "      <td>222.5000</td>\n",
       "      <td>445.0000</td>\n",
       "      <td>667.5</td>\n",
       "      <td>890.0000</td>\n",
       "    </tr>\n",
       "    <tr>\n",
       "      <th>passenger_id</th>\n",
       "      <td>891.0</td>\n",
       "      <td>445.000000</td>\n",
       "      <td>257.353842</td>\n",
       "      <td>0.00</td>\n",
       "      <td>222.5000</td>\n",
       "      <td>445.0000</td>\n",
       "      <td>667.5</td>\n",
       "      <td>890.0000</td>\n",
       "    </tr>\n",
       "    <tr>\n",
       "      <th>survived</th>\n",
       "      <td>891.0</td>\n",
       "      <td>0.383838</td>\n",
       "      <td>0.486592</td>\n",
       "      <td>0.00</td>\n",
       "      <td>0.0000</td>\n",
       "      <td>0.0000</td>\n",
       "      <td>1.0</td>\n",
       "      <td>1.0000</td>\n",
       "    </tr>\n",
       "    <tr>\n",
       "      <th>pclass</th>\n",
       "      <td>891.0</td>\n",
       "      <td>2.308642</td>\n",
       "      <td>0.836071</td>\n",
       "      <td>1.00</td>\n",
       "      <td>2.0000</td>\n",
       "      <td>3.0000</td>\n",
       "      <td>3.0</td>\n",
       "      <td>3.0000</td>\n",
       "    </tr>\n",
       "    <tr>\n",
       "      <th>age</th>\n",
       "      <td>714.0</td>\n",
       "      <td>29.699118</td>\n",
       "      <td>14.526497</td>\n",
       "      <td>0.42</td>\n",
       "      <td>20.1250</td>\n",
       "      <td>28.0000</td>\n",
       "      <td>38.0</td>\n",
       "      <td>80.0000</td>\n",
       "    </tr>\n",
       "    <tr>\n",
       "      <th>sibsp</th>\n",
       "      <td>891.0</td>\n",
       "      <td>0.523008</td>\n",
       "      <td>1.102743</td>\n",
       "      <td>0.00</td>\n",
       "      <td>0.0000</td>\n",
       "      <td>0.0000</td>\n",
       "      <td>1.0</td>\n",
       "      <td>8.0000</td>\n",
       "    </tr>\n",
       "    <tr>\n",
       "      <th>parch</th>\n",
       "      <td>891.0</td>\n",
       "      <td>0.381594</td>\n",
       "      <td>0.806057</td>\n",
       "      <td>0.00</td>\n",
       "      <td>0.0000</td>\n",
       "      <td>0.0000</td>\n",
       "      <td>0.0</td>\n",
       "      <td>6.0000</td>\n",
       "    </tr>\n",
       "    <tr>\n",
       "      <th>fare</th>\n",
       "      <td>891.0</td>\n",
       "      <td>32.204208</td>\n",
       "      <td>49.693429</td>\n",
       "      <td>0.00</td>\n",
       "      <td>7.9104</td>\n",
       "      <td>14.4542</td>\n",
       "      <td>31.0</td>\n",
       "      <td>512.3292</td>\n",
       "    </tr>\n",
       "    <tr>\n",
       "      <th>alone</th>\n",
       "      <td>891.0</td>\n",
       "      <td>0.602694</td>\n",
       "      <td>0.489615</td>\n",
       "      <td>0.00</td>\n",
       "      <td>0.0000</td>\n",
       "      <td>1.0000</td>\n",
       "      <td>1.0</td>\n",
       "      <td>1.0000</td>\n",
       "    </tr>\n",
       "  </tbody>\n",
       "</table>\n",
       "</div>"
      ],
      "text/plain": [
       "              count        mean         std   min       25%       50%    75%  \\\n",
       "Unnamed: 0    891.0  445.000000  257.353842  0.00  222.5000  445.0000  667.5   \n",
       "passenger_id  891.0  445.000000  257.353842  0.00  222.5000  445.0000  667.5   \n",
       "survived      891.0    0.383838    0.486592  0.00    0.0000    0.0000    1.0   \n",
       "pclass        891.0    2.308642    0.836071  1.00    2.0000    3.0000    3.0   \n",
       "age           714.0   29.699118   14.526497  0.42   20.1250   28.0000   38.0   \n",
       "sibsp         891.0    0.523008    1.102743  0.00    0.0000    0.0000    1.0   \n",
       "parch         891.0    0.381594    0.806057  0.00    0.0000    0.0000    0.0   \n",
       "fare          891.0   32.204208   49.693429  0.00    7.9104   14.4542   31.0   \n",
       "alone         891.0    0.602694    0.489615  0.00    0.0000    1.0000    1.0   \n",
       "\n",
       "                   max  \n",
       "Unnamed: 0    890.0000  \n",
       "passenger_id  890.0000  \n",
       "survived        1.0000  \n",
       "pclass          3.0000  \n",
       "age            80.0000  \n",
       "sibsp           8.0000  \n",
       "parch           6.0000  \n",
       "fare          512.3292  \n",
       "alone           1.0000  "
      ]
     },
     "execution_count": 11,
     "metadata": {},
     "output_type": "execute_result"
    }
   ],
   "source": [
    "df.describe().T"
   ]
  },
  {
   "cell_type": "markdown",
   "id": "6ec4c197",
   "metadata": {},
   "source": [
    "print the unique values for each of your categorical variables\n"
   ]
  },
  {
   "cell_type": "code",
   "execution_count": 12,
   "id": "f9d86ee5",
   "metadata": {},
   "outputs": [
    {
     "data": {
      "text/plain": [
       "Unnamed: 0      891\n",
       "passenger_id    891\n",
       "survived          2\n",
       "pclass            3\n",
       "sex               2\n",
       "age              88\n",
       "sibsp             7\n",
       "parch             7\n",
       "fare            248\n",
       "embarked          3\n",
       "class             3\n",
       "deck              7\n",
       "embark_town       3\n",
       "alone             2\n",
       "dtype: int64"
      ]
     },
     "execution_count": 12,
     "metadata": {},
     "output_type": "execute_result"
    }
   ],
   "source": [
    "df.nunique()"
   ]
  },
  {
   "cell_type": "code",
   "execution_count": 13,
   "id": "8ae018f5",
   "metadata": {},
   "outputs": [
    {
     "name": "stdout",
     "output_type": "stream",
     "text": [
      "sex has 2 unique values.\n",
      "embarked has 3 unique values.\n",
      "class has 3 unique values.\n",
      "deck has 7 unique values.\n",
      "embark_town has 3 unique values.\n"
     ]
    }
   ],
   "source": [
    "for col in df.columns:\n",
    "    if df[col].dtypes == 'object':\n",
    "        print(f'{col} has {df[col].nunique()} unique values.')"
   ]
  },
  {
   "cell_type": "markdown",
   "id": "857fd335",
   "metadata": {},
   "source": [
    "Download the previous exercise's file into an excel (File → Download → Microsoft Excel). Read the downloaded file into a dataframe named df_excel.\n",
    "\n",
    "assign the first 100 rows to a new dataframe, df_excel_sample\n"
   ]
  },
  {
   "cell_type": "code",
   "execution_count": 14,
   "id": "2e47a15e",
   "metadata": {},
   "outputs": [
    {
     "ename": "FileNotFoundError",
     "evalue": "[Errno 2] No such file or directory: 'titanic.xlsx'",
     "output_type": "error",
     "traceback": [
      "\u001b[0;31m---------------------------------------------------------------------------\u001b[0m",
      "\u001b[0;31mFileNotFoundError\u001b[0m                         Traceback (most recent call last)",
      "Input \u001b[0;32mIn [14]\u001b[0m, in \u001b[0;36m<cell line: 1>\u001b[0;34m()\u001b[0m\n\u001b[0;32m----> 1\u001b[0m df \u001b[38;5;241m=\u001b[39m \u001b[43mpd\u001b[49m\u001b[38;5;241;43m.\u001b[39;49m\u001b[43mread_excel\u001b[49m\u001b[43m(\u001b[49m\u001b[38;5;124;43m'\u001b[39;49m\u001b[38;5;124;43mtitanic.xlsx\u001b[39;49m\u001b[38;5;124;43m'\u001b[39;49m\u001b[43m)\u001b[49m\n\u001b[1;32m      2\u001b[0m df_excel_sample \u001b[38;5;241m=\u001b[39m df\u001b[38;5;241m.\u001b[39mhead(\u001b[38;5;241m100\u001b[39m)\n\u001b[1;32m      3\u001b[0m df_excel_sample\u001b[38;5;241m.\u001b[39mhead()\n",
      "File \u001b[0;32m/opt/homebrew/anaconda3/lib/python3.9/site-packages/pandas/util/_decorators.py:311\u001b[0m, in \u001b[0;36mdeprecate_nonkeyword_arguments.<locals>.decorate.<locals>.wrapper\u001b[0;34m(*args, **kwargs)\u001b[0m\n\u001b[1;32m    305\u001b[0m \u001b[38;5;28;01mif\u001b[39;00m \u001b[38;5;28mlen\u001b[39m(args) \u001b[38;5;241m>\u001b[39m num_allow_args:\n\u001b[1;32m    306\u001b[0m     warnings\u001b[38;5;241m.\u001b[39mwarn(\n\u001b[1;32m    307\u001b[0m         msg\u001b[38;5;241m.\u001b[39mformat(arguments\u001b[38;5;241m=\u001b[39marguments),\n\u001b[1;32m    308\u001b[0m         \u001b[38;5;167;01mFutureWarning\u001b[39;00m,\n\u001b[1;32m    309\u001b[0m         stacklevel\u001b[38;5;241m=\u001b[39mstacklevel,\n\u001b[1;32m    310\u001b[0m     )\n\u001b[0;32m--> 311\u001b[0m \u001b[38;5;28;01mreturn\u001b[39;00m \u001b[43mfunc\u001b[49m\u001b[43m(\u001b[49m\u001b[38;5;241;43m*\u001b[39;49m\u001b[43margs\u001b[49m\u001b[43m,\u001b[49m\u001b[43m \u001b[49m\u001b[38;5;241;43m*\u001b[39;49m\u001b[38;5;241;43m*\u001b[39;49m\u001b[43mkwargs\u001b[49m\u001b[43m)\u001b[49m\n",
      "File \u001b[0;32m/opt/homebrew/anaconda3/lib/python3.9/site-packages/pandas/io/excel/_base.py:457\u001b[0m, in \u001b[0;36mread_excel\u001b[0;34m(io, sheet_name, header, names, index_col, usecols, squeeze, dtype, engine, converters, true_values, false_values, skiprows, nrows, na_values, keep_default_na, na_filter, verbose, parse_dates, date_parser, thousands, decimal, comment, skipfooter, convert_float, mangle_dupe_cols, storage_options)\u001b[0m\n\u001b[1;32m    455\u001b[0m \u001b[38;5;28;01mif\u001b[39;00m \u001b[38;5;129;01mnot\u001b[39;00m \u001b[38;5;28misinstance\u001b[39m(io, ExcelFile):\n\u001b[1;32m    456\u001b[0m     should_close \u001b[38;5;241m=\u001b[39m \u001b[38;5;28;01mTrue\u001b[39;00m\n\u001b[0;32m--> 457\u001b[0m     io \u001b[38;5;241m=\u001b[39m \u001b[43mExcelFile\u001b[49m\u001b[43m(\u001b[49m\u001b[43mio\u001b[49m\u001b[43m,\u001b[49m\u001b[43m \u001b[49m\u001b[43mstorage_options\u001b[49m\u001b[38;5;241;43m=\u001b[39;49m\u001b[43mstorage_options\u001b[49m\u001b[43m,\u001b[49m\u001b[43m \u001b[49m\u001b[43mengine\u001b[49m\u001b[38;5;241;43m=\u001b[39;49m\u001b[43mengine\u001b[49m\u001b[43m)\u001b[49m\n\u001b[1;32m    458\u001b[0m \u001b[38;5;28;01melif\u001b[39;00m engine \u001b[38;5;129;01mand\u001b[39;00m engine \u001b[38;5;241m!=\u001b[39m io\u001b[38;5;241m.\u001b[39mengine:\n\u001b[1;32m    459\u001b[0m     \u001b[38;5;28;01mraise\u001b[39;00m \u001b[38;5;167;01mValueError\u001b[39;00m(\n\u001b[1;32m    460\u001b[0m         \u001b[38;5;124m\"\u001b[39m\u001b[38;5;124mEngine should not be specified when passing \u001b[39m\u001b[38;5;124m\"\u001b[39m\n\u001b[1;32m    461\u001b[0m         \u001b[38;5;124m\"\u001b[39m\u001b[38;5;124man ExcelFile - ExcelFile already has the engine set\u001b[39m\u001b[38;5;124m\"\u001b[39m\n\u001b[1;32m    462\u001b[0m     )\n",
      "File \u001b[0;32m/opt/homebrew/anaconda3/lib/python3.9/site-packages/pandas/io/excel/_base.py:1376\u001b[0m, in \u001b[0;36mExcelFile.__init__\u001b[0;34m(self, path_or_buffer, engine, storage_options)\u001b[0m\n\u001b[1;32m   1374\u001b[0m     ext \u001b[38;5;241m=\u001b[39m \u001b[38;5;124m\"\u001b[39m\u001b[38;5;124mxls\u001b[39m\u001b[38;5;124m\"\u001b[39m\n\u001b[1;32m   1375\u001b[0m \u001b[38;5;28;01melse\u001b[39;00m:\n\u001b[0;32m-> 1376\u001b[0m     ext \u001b[38;5;241m=\u001b[39m \u001b[43minspect_excel_format\u001b[49m\u001b[43m(\u001b[49m\n\u001b[1;32m   1377\u001b[0m \u001b[43m        \u001b[49m\u001b[43mcontent_or_path\u001b[49m\u001b[38;5;241;43m=\u001b[39;49m\u001b[43mpath_or_buffer\u001b[49m\u001b[43m,\u001b[49m\u001b[43m \u001b[49m\u001b[43mstorage_options\u001b[49m\u001b[38;5;241;43m=\u001b[39;49m\u001b[43mstorage_options\u001b[49m\n\u001b[1;32m   1378\u001b[0m \u001b[43m    \u001b[49m\u001b[43m)\u001b[49m\n\u001b[1;32m   1379\u001b[0m     \u001b[38;5;28;01mif\u001b[39;00m ext \u001b[38;5;129;01mis\u001b[39;00m \u001b[38;5;28;01mNone\u001b[39;00m:\n\u001b[1;32m   1380\u001b[0m         \u001b[38;5;28;01mraise\u001b[39;00m \u001b[38;5;167;01mValueError\u001b[39;00m(\n\u001b[1;32m   1381\u001b[0m             \u001b[38;5;124m\"\u001b[39m\u001b[38;5;124mExcel file format cannot be determined, you must specify \u001b[39m\u001b[38;5;124m\"\u001b[39m\n\u001b[1;32m   1382\u001b[0m             \u001b[38;5;124m\"\u001b[39m\u001b[38;5;124man engine manually.\u001b[39m\u001b[38;5;124m\"\u001b[39m\n\u001b[1;32m   1383\u001b[0m         )\n",
      "File \u001b[0;32m/opt/homebrew/anaconda3/lib/python3.9/site-packages/pandas/io/excel/_base.py:1250\u001b[0m, in \u001b[0;36minspect_excel_format\u001b[0;34m(content_or_path, storage_options)\u001b[0m\n\u001b[1;32m   1247\u001b[0m \u001b[38;5;28;01mif\u001b[39;00m \u001b[38;5;28misinstance\u001b[39m(content_or_path, \u001b[38;5;28mbytes\u001b[39m):\n\u001b[1;32m   1248\u001b[0m     content_or_path \u001b[38;5;241m=\u001b[39m BytesIO(content_or_path)\n\u001b[0;32m-> 1250\u001b[0m \u001b[38;5;28;01mwith\u001b[39;00m \u001b[43mget_handle\u001b[49m\u001b[43m(\u001b[49m\n\u001b[1;32m   1251\u001b[0m \u001b[43m    \u001b[49m\u001b[43mcontent_or_path\u001b[49m\u001b[43m,\u001b[49m\u001b[43m \u001b[49m\u001b[38;5;124;43m\"\u001b[39;49m\u001b[38;5;124;43mrb\u001b[39;49m\u001b[38;5;124;43m\"\u001b[39;49m\u001b[43m,\u001b[49m\u001b[43m \u001b[49m\u001b[43mstorage_options\u001b[49m\u001b[38;5;241;43m=\u001b[39;49m\u001b[43mstorage_options\u001b[49m\u001b[43m,\u001b[49m\u001b[43m \u001b[49m\u001b[43mis_text\u001b[49m\u001b[38;5;241;43m=\u001b[39;49m\u001b[38;5;28;43;01mFalse\u001b[39;49;00m\n\u001b[1;32m   1252\u001b[0m \u001b[43m\u001b[49m\u001b[43m)\u001b[49m \u001b[38;5;28;01mas\u001b[39;00m handle:\n\u001b[1;32m   1253\u001b[0m     stream \u001b[38;5;241m=\u001b[39m handle\u001b[38;5;241m.\u001b[39mhandle\n\u001b[1;32m   1254\u001b[0m     stream\u001b[38;5;241m.\u001b[39mseek(\u001b[38;5;241m0\u001b[39m)\n",
      "File \u001b[0;32m/opt/homebrew/anaconda3/lib/python3.9/site-packages/pandas/io/common.py:795\u001b[0m, in \u001b[0;36mget_handle\u001b[0;34m(path_or_buf, mode, encoding, compression, memory_map, is_text, errors, storage_options)\u001b[0m\n\u001b[1;32m    786\u001b[0m         handle \u001b[38;5;241m=\u001b[39m \u001b[38;5;28mopen\u001b[39m(\n\u001b[1;32m    787\u001b[0m             handle,\n\u001b[1;32m    788\u001b[0m             ioargs\u001b[38;5;241m.\u001b[39mmode,\n\u001b[0;32m   (...)\u001b[0m\n\u001b[1;32m    791\u001b[0m             newline\u001b[38;5;241m=\u001b[39m\u001b[38;5;124m\"\u001b[39m\u001b[38;5;124m\"\u001b[39m,\n\u001b[1;32m    792\u001b[0m         )\n\u001b[1;32m    793\u001b[0m     \u001b[38;5;28;01melse\u001b[39;00m:\n\u001b[1;32m    794\u001b[0m         \u001b[38;5;66;03m# Binary mode\u001b[39;00m\n\u001b[0;32m--> 795\u001b[0m         handle \u001b[38;5;241m=\u001b[39m \u001b[38;5;28;43mopen\u001b[39;49m\u001b[43m(\u001b[49m\u001b[43mhandle\u001b[49m\u001b[43m,\u001b[49m\u001b[43m \u001b[49m\u001b[43mioargs\u001b[49m\u001b[38;5;241;43m.\u001b[39;49m\u001b[43mmode\u001b[49m\u001b[43m)\u001b[49m\n\u001b[1;32m    796\u001b[0m     handles\u001b[38;5;241m.\u001b[39mappend(handle)\n\u001b[1;32m    798\u001b[0m \u001b[38;5;66;03m# Convert BytesIO or file objects passed with an encoding\u001b[39;00m\n",
      "\u001b[0;31mFileNotFoundError\u001b[0m: [Errno 2] No such file or directory: 'titanic.xlsx'"
     ]
    }
   ],
   "source": [
    "df = pd.read_excel('titanic.xlsx')\n",
    "df_excel_sample = df.head(100)\n",
    "df_excel_sample.head()"
   ]
  },
  {
   "cell_type": "markdown",
   "id": "79277dfe",
   "metadata": {},
   "source": [
    "print the number of rows of your original dataframe\n"
   ]
  },
  {
   "cell_type": "code",
   "execution_count": null,
   "id": "1b8a7d4d",
   "metadata": {},
   "outputs": [],
   "source": [
    "df.shape[0]"
   ]
  },
  {
   "cell_type": "markdown",
   "id": "afb2fce4",
   "metadata": {},
   "source": [
    "print the first 5 column names\n"
   ]
  },
  {
   "cell_type": "code",
   "execution_count": null,
   "id": "aec003f6",
   "metadata": {},
   "outputs": [],
   "source": [
    "df.columns[0:5]"
   ]
  },
  {
   "cell_type": "markdown",
   "id": "378231e1",
   "metadata": {},
   "source": [
    "print the column names that have a data type of object\n"
   ]
  },
  {
   "cell_type": "code",
   "execution_count": null,
   "id": "b8a257e0",
   "metadata": {},
   "outputs": [],
   "source": [
    "df_objects = df.columns.groupby(df.dtypes)\n",
    "df_objects"
   ]
  },
  {
   "cell_type": "markdown",
   "id": "61528ccf",
   "metadata": {},
   "source": [
    "compute the range for each of the numeric variables.\n"
   ]
  },
  {
   "cell_type": "code",
   "execution_count": null,
   "id": "1085c126",
   "metadata": {},
   "outputs": [],
   "source": [
    "df.describe()"
   ]
  },
  {
   "cell_type": "markdown",
   "id": "7b4d5a34",
   "metadata": {},
   "source": [
    "# Data Preparation Exercises"
   ]
  },
  {
   "cell_type": "markdown",
   "id": "62954f33",
   "metadata": {},
   "source": [
    "Using the Iris Data:\n",
    "\n",
    "Use the function defined in acquire.py to load the iris data.\n",
    "\n",
    "Drop the species_id and measurement_id columns.\n",
    "\n"
   ]
  },
  {
   "cell_type": "code",
   "execution_count": null,
   "id": "fd7778ba",
   "metadata": {},
   "outputs": [],
   "source": [
    "iris = get_iris_data(get_connection)"
   ]
  },
  {
   "cell_type": "code",
   "execution_count": null,
   "id": "c3669334",
   "metadata": {},
   "outputs": [],
   "source": [
    "iris.head()"
   ]
  },
  {
   "cell_type": "code",
   "execution_count": null,
   "id": "ce73f9cb",
   "metadata": {},
   "outputs": [],
   "source": [
    "to_drop = ['species_id', 'measurement_id']"
   ]
  },
  {
   "cell_type": "code",
   "execution_count": null,
   "id": "c219e0b3",
   "metadata": {},
   "outputs": [],
   "source": [
    "iris.drop(columns=to_drop, inplace=True)"
   ]
  },
  {
   "cell_type": "code",
   "execution_count": null,
   "id": "401a0339",
   "metadata": {},
   "outputs": [],
   "source": [
    "iris.drop(columns='Unnamed: 0', inplace=True)"
   ]
  },
  {
   "cell_type": "markdown",
   "id": "6f018237",
   "metadata": {},
   "source": [
    "Rename the species_name column to just species.\n",
    "\n"
   ]
  },
  {
   "cell_type": "code",
   "execution_count": null,
   "id": "e7310b98",
   "metadata": {},
   "outputs": [],
   "source": [
    "iris = iris.rename(columns={'species_name':'name'})"
   ]
  },
  {
   "cell_type": "code",
   "execution_count": null,
   "id": "6982fafd",
   "metadata": {},
   "outputs": [],
   "source": [
    "iris.head()"
   ]
  },
  {
   "cell_type": "markdown",
   "id": "4ad71fa9",
   "metadata": {},
   "source": [
    "Create dummy variables of the species name and concatenate onto the iris dataframe. (This is for practice, we don't always have to encode the target, but if we used species as a feature, we would need to encode it).\n",
    "\n"
   ]
  },
  {
   "cell_type": "code",
   "execution_count": null,
   "id": "b8b36e97",
   "metadata": {},
   "outputs": [],
   "source": [
    "species_name = pd.get_dummies(iris[['name']])"
   ]
  },
  {
   "cell_type": "code",
   "execution_count": null,
   "id": "9975edb6",
   "metadata": {},
   "outputs": [],
   "source": [
    "iris = pd.concat([iris, species_name], axis=1)"
   ]
  },
  {
   "cell_type": "markdown",
   "id": "318b0854",
   "metadata": {},
   "source": [
    "Create a function named prep_iris that accepts the untransformed iris data, and returns the data with the transformations above applied.\n",
    "\n"
   ]
  },
  {
   "cell_type": "code",
   "execution_count": null,
   "id": "039aec28",
   "metadata": {},
   "outputs": [],
   "source": [
    "def prep_iris(df):\n",
    "    to_drop = ['species_id', 'measurement_id', 'Unnamed: 0']\n",
    "    df.drop(columns=to_drop, inplace=True)   \n",
    "    df = df.rename(columns={'species_name':'name'})\n",
    "    \n",
    "    dummies = pd.get_dummies(df[['name']], drop_first=True)\n",
    "    df = pd.concat([df, dummies], axis=1)\n",
    "    \n",
    "    return df"
   ]
  },
  {
   "cell_type": "code",
   "execution_count": null,
   "id": "b46142ce",
   "metadata": {},
   "outputs": [],
   "source": [
    "test_iris = get_iris_data(get_connection)"
   ]
  },
  {
   "cell_type": "code",
   "execution_count": null,
   "id": "e620cee3",
   "metadata": {},
   "outputs": [],
   "source": [
    "iris2 = prep_iris(test_iris)"
   ]
  },
  {
   "cell_type": "code",
   "execution_count": null,
   "id": "c2e987cd",
   "metadata": {},
   "outputs": [],
   "source": [
    "iris2.head()"
   ]
  },
  {
   "cell_type": "markdown",
   "id": "44481524",
   "metadata": {},
   "source": [
    "Using the Titanic dataset\n",
    "\n",
    "Use the function defined in acquire.py to load the Titanic data.\n",
    "\n",
    "Drop any unnecessary, unhelpful, or duplicated columns."
   ]
  },
  {
   "cell_type": "code",
   "execution_count": null,
   "id": "e4d3d3b5",
   "metadata": {},
   "outputs": [],
   "source": [
    "titanic = acquire.get_titanic_data()\n",
    "titanic.head()"
   ]
  },
  {
   "cell_type": "code",
   "execution_count": null,
   "id": "988be636",
   "metadata": {},
   "outputs": [],
   "source": [
    "titanic = get_titanic_data(get_connection)"
   ]
  },
  {
   "cell_type": "code",
   "execution_count": null,
   "id": "403553a0",
   "metadata": {},
   "outputs": [],
   "source": [
    "titanic.head()"
   ]
  },
  {
   "cell_type": "code",
   "execution_count": null,
   "id": "8f2c9102",
   "metadata": {},
   "outputs": [],
   "source": [
    "to_drop = ['Unnamed: 0', 'class', 'embarked', 'passenger_id', 'deck']\n",
    "titanic.drop(columns=to_drop, inplace=True)"
   ]
  },
  {
   "cell_type": "code",
   "execution_count": null,
   "id": "ba22fb9b",
   "metadata": {},
   "outputs": [],
   "source": [
    "titanic.head()"
   ]
  },
  {
   "cell_type": "code",
   "execution_count": null,
   "id": "108de222",
   "metadata": {},
   "outputs": [],
   "source": [
    "titanic['embark_town'].isna().sum()"
   ]
  },
  {
   "cell_type": "markdown",
   "id": "55c7f59a",
   "metadata": {},
   "source": [
    "Encode the categorical columns. Create dummy variables of the categorical columns and concatenate them onto the dataframe.\n",
    "\n"
   ]
  },
  {
   "cell_type": "code",
   "execution_count": null,
   "id": "f6ad973e",
   "metadata": {
    "scrolled": true
   },
   "outputs": [],
   "source": [
    "titanic.info()"
   ]
  },
  {
   "cell_type": "code",
   "execution_count": null,
   "id": "5522eb84",
   "metadata": {},
   "outputs": [],
   "source": [
    "dummies = pd.get_dummies(df[['sex', 'embark_town']], drop_first=True)\n",
    "\n",
    "titanic = pd.concat([titanic, dummies], axis=1)"
   ]
  },
  {
   "cell_type": "code",
   "execution_count": null,
   "id": "59785e00",
   "metadata": {
    "scrolled": true
   },
   "outputs": [],
   "source": [
    "titanic.head()"
   ]
  },
  {
   "cell_type": "markdown",
   "id": "72916fbd",
   "metadata": {},
   "source": [
    "Create a function named prep_titanic that accepts the raw titanic data, and returns the data with the transformations above applied.\n",
    "\n"
   ]
  },
  {
   "cell_type": "code",
   "execution_count": null,
   "id": "8bfc26a1",
   "metadata": {},
   "outputs": [],
   "source": [
    "def prep_titanic(df):\n",
    "    to_drop = ['Unnamed: 0', 'class', 'embarked', 'passenger_id', 'deck']\n",
    "    df.drop(columns=to_drop, inplace=True)\n",
    "    \n",
    "    dummies = pd.get_dummies(df[['sex', 'embark_town']], drop_first=True)\n",
    "    df = pd.concat([df, dummies], axis=1)\n",
    "    \n",
    "    return df"
   ]
  },
  {
   "cell_type": "code",
   "execution_count": null,
   "id": "f56beaa5",
   "metadata": {},
   "outputs": [],
   "source": [
    "test_titanic = get_titanic_data(get_connection)"
   ]
  },
  {
   "cell_type": "code",
   "execution_count": null,
   "id": "fe103f67",
   "metadata": {},
   "outputs": [],
   "source": [
    "test_titanic.head()"
   ]
  },
  {
   "cell_type": "code",
   "execution_count": null,
   "id": "3d59ec85",
   "metadata": {},
   "outputs": [],
   "source": [
    "test_titanic = prep_titanic(test_titanic)"
   ]
  },
  {
   "cell_type": "markdown",
   "id": "1da386cc",
   "metadata": {},
   "source": [
    "Using the Telco dataset\n",
    "\n",
    "Use the function defined in acquire.py to load the Telco data.\n",
    "\n",
    "Drop any unnecessary, unhelpful, or duplicated columns. This could mean dropping foreign key columns but keeping the corresponding string values, for example.\n",
    "\n"
   ]
  },
  {
   "cell_type": "code",
   "execution_count": null,
   "id": "47592c9d",
   "metadata": {},
   "outputs": [],
   "source": [
    "telco = acquire.get_telco_data(get_connection)"
   ]
  },
  {
   "cell_type": "code",
   "execution_count": null,
   "id": "5dbccba4",
   "metadata": {},
   "outputs": [],
   "source": [
    "telco.head()"
   ]
  },
  {
   "cell_type": "code",
   "execution_count": null,
   "id": "6d00252e",
   "metadata": {},
   "outputs": [],
   "source": [
    "to_drop = ['Unnamed: 0', 'payment_type_id', 'internet_service_type_id', 'contract_type_id', 'customer_id', ]\n",
    "\n",
    "telco.drop(columns=to_drop, inplace=True)\n",
    "telco.head()"
   ]
  },
  {
   "cell_type": "markdown",
   "id": "2d696204",
   "metadata": {},
   "source": [
    "Encode the categorical columns. Create dummy variables of the categorical columns and concatenate them onto the dataframe.\n",
    "\n"
   ]
  },
  {
   "cell_type": "code",
   "execution_count": null,
   "id": "9d4269eb",
   "metadata": {},
   "outputs": [],
   "source": [
    "telco.info()"
   ]
  },
  {
   "cell_type": "code",
   "execution_count": null,
   "id": "611a344a",
   "metadata": {},
   "outputs": [],
   "source": [
    "float('' + '0')"
   ]
  },
  {
   "cell_type": "code",
   "execution_count": null,
   "id": "3d244e06",
   "metadata": {},
   "outputs": [],
   "source": [
    "telco['total_charges'] = (telco.total_charges + '0').astype(float)"
   ]
  },
  {
   "cell_type": "code",
   "execution_count": null,
   "id": "826ae407",
   "metadata": {},
   "outputs": [],
   "source": [
    "categorical_columns = []\n",
    "bin_cats = []\n",
    "mult_cats = []\n",
    "numerical_columns = []\n",
    "for col in telco.columns:\n",
    "    if telco[col].dtype == 'object':\n",
    "        categorical_columns.append(col)\n",
    "        if telco[col].value_counts().size > 2:\n",
    "            mult_cats.append(col)\n",
    "        else:\n",
    "            bin_cats.append(col)\n",
    "    else: \n",
    "        numerical_columns.append(col)"
   ]
  },
  {
   "cell_type": "code",
   "execution_count": null,
   "id": "288b7480",
   "metadata": {},
   "outputs": [],
   "source": [
    "categorical_columns"
   ]
  },
  {
   "cell_type": "code",
   "execution_count": null,
   "id": "9be2a389",
   "metadata": {},
   "outputs": [],
   "source": [
    "numerical_columns"
   ]
  },
  {
   "cell_type": "code",
   "execution_count": null,
   "id": "907b45f4",
   "metadata": {},
   "outputs": [],
   "source": [
    "bin_cats"
   ]
  },
  {
   "cell_type": "code",
   "execution_count": null,
   "id": "e643850a",
   "metadata": {},
   "outputs": [],
   "source": [
    "mult_cats"
   ]
  },
  {
   "cell_type": "code",
   "execution_count": null,
   "id": "016be829",
   "metadata": {},
   "outputs": [],
   "source": [
    "to_dummy = ['gender', 'partner', 'dependents', 'phone_service', 'multiple_lines', 'online_security', \n",
    "            'online_backup', 'device_protection', 'tech_support', 'streaming_tv', 'streaming_movies', \n",
    "            'paperless_billing', 'total_charges', 'churn', 'contract_type', 'internet_service_type', 'payment_type']"
   ]
  },
  {
   "cell_type": "code",
   "execution_count": null,
   "id": "9b24c56e",
   "metadata": {},
   "outputs": [],
   "source": [
    "dummies = pd.get_dummies(to_dummy, drop_first=True)\n",
    "\n",
    "dummies"
   ]
  },
  {
   "cell_type": "code",
   "execution_count": null,
   "id": "fb5516db",
   "metadata": {},
   "outputs": [],
   "source": [
    "telco = pd.concat([telco, dummies], axis=1)"
   ]
  },
  {
   "cell_type": "code",
   "execution_count": null,
   "id": "afa84869",
   "metadata": {},
   "outputs": [],
   "source": [
    "telco.head()"
   ]
  },
  {
   "cell_type": "code",
   "execution_count": null,
   "id": "e96eb577",
   "metadata": {},
   "outputs": [],
   "source": [
    "telco.shape"
   ]
  },
  {
   "cell_type": "markdown",
   "id": "51ad5703",
   "metadata": {},
   "source": [
    "Create a function named prep_telco that accepts the raw telco data, and returns the data with the transformations above applied.\n",
    "\n"
   ]
  },
  {
   "cell_type": "code",
   "execution_count": null,
   "id": "c4a4c8e6",
   "metadata": {},
   "outputs": [],
   "source": [
    "def prep_telco(df):\n",
    "    to_drop = ['Unnamed: 0', 'payment_type_id', 'internet_service_type_id', 'contract_type_id', 'customer_id', ]\n",
    "    df.drop(columns=to_drop, inplace=True)\n",
    "    \n",
    "    to_dummy = ['gender', 'partner', 'dependents', 'phone_service', 'multiple_lines', 'online_security', \n",
    "                'online_backup', 'device_protection', 'tech_support', 'streaming_tv', 'streaming_movies', \n",
    "                'paperless_billing', 'total_charges', 'churn', 'contract_type', 'internet_service_type', \n",
    "                'payment_type']\n",
    "    \n",
    "    dummies = pd.get_dummies(to_dummy, drop_first=True)\n",
    "    df = pd.concat([df, dummies], axis=1)\n",
    "    return df\n",
    "    "
   ]
  },
  {
   "cell_type": "code",
   "execution_count": null,
   "id": "44adccef",
   "metadata": {},
   "outputs": [],
   "source": [
    "telco_test = get_telco_data(get_connection)"
   ]
  },
  {
   "cell_type": "code",
   "execution_count": null,
   "id": "b4d85f4e",
   "metadata": {},
   "outputs": [],
   "source": [
    "telco_test = prep_telco(telco_test)"
   ]
  },
  {
   "cell_type": "code",
   "execution_count": null,
   "id": "ee4c42b3",
   "metadata": {},
   "outputs": [],
   "source": [
    "telco_test.head()"
   ]
  },
  {
   "cell_type": "markdown",
   "id": "bfaa27f0",
   "metadata": {},
   "source": [
    "Split your data\n",
    "\n",
    "Write a function to split your data into train, test and validate datasets. Add this function to prepare.py.\n",
    "\n"
   ]
  },
  {
   "cell_type": "code",
   "execution_count": null,
   "id": "d63b81d0",
   "metadata": {},
   "outputs": [],
   "source": [
    "def split_train_test(df, col):\n",
    "    \n",
    "    seed = 69\n",
    "    train, val_test = train_test_split(df, train_size=.7, random_state=seed, stratify=df[col])\n",
    "    validate, test = train_test_split(val_test, train_size=.5, random_state=seed, stratify=val_test[col])\n",
    "    \n",
    "    return train, validate, test"
   ]
  },
  {
   "cell_type": "markdown",
   "id": "73de6a70",
   "metadata": {},
   "source": [
    "Run the function in your notebook on the Iris dataset, returning 3 datasets, train_iris, validate_iris and test_iris.\n",
    "\n"
   ]
  },
  {
   "cell_type": "code",
   "execution_count": null,
   "id": "b847bc28",
   "metadata": {},
   "outputs": [],
   "source": [
    "train, validate, test = split_train_test(iris2, 'name')"
   ]
  },
  {
   "cell_type": "code",
   "execution_count": null,
   "id": "ca0824f1",
   "metadata": {},
   "outputs": [],
   "source": [
    "train.shape, validate.shape, test.shape"
   ]
  },
  {
   "cell_type": "markdown",
   "id": "2d9f127f",
   "metadata": {},
   "source": [
    "Run the function on the Titanic dataset, returning 3 datasets, train_titanic, validate_titanic and test_titanic.\n",
    "\n"
   ]
  },
  {
   "cell_type": "code",
   "execution_count": null,
   "id": "be204b02",
   "metadata": {},
   "outputs": [],
   "source": [
    "test_titanic.head()"
   ]
  },
  {
   "cell_type": "code",
   "execution_count": null,
   "id": "8c7896cd",
   "metadata": {},
   "outputs": [],
   "source": [
    "train, validate, test = split_train_test(test_titanic, 'survived')"
   ]
  },
  {
   "cell_type": "code",
   "execution_count": null,
   "id": "52a07aa3",
   "metadata": {},
   "outputs": [],
   "source": [
    "train.shape, validate.shape, test.shape"
   ]
  },
  {
   "cell_type": "markdown",
   "id": "d6331314",
   "metadata": {},
   "source": [
    "Run the function on the Telco dataset, returning 3 datasets, train_telco, validate_telco and test_telco.\n",
    "\n"
   ]
  },
  {
   "cell_type": "code",
   "execution_count": null,
   "id": "ee6cee87",
   "metadata": {},
   "outputs": [],
   "source": [
    "telco = get_telco_data(get_connection)"
   ]
  },
  {
   "cell_type": "code",
   "execution_count": null,
   "id": "17169b2c",
   "metadata": {},
   "outputs": [],
   "source": [
    "telco_test.head()"
   ]
  },
  {
   "cell_type": "code",
   "execution_count": null,
   "id": "ba568a05",
   "metadata": {},
   "outputs": [],
   "source": [
    "train, validate, test = split_train_test(telco_test, 'churn')"
   ]
  },
  {
   "cell_type": "code",
   "execution_count": null,
   "id": "a1e31747",
   "metadata": {},
   "outputs": [],
   "source": [
    "train.shape, validate.shape, test.shape"
   ]
  },
  {
   "cell_type": "markdown",
   "id": "1c18f104",
   "metadata": {},
   "source": [
    "# Exploratory Analysis Exercises"
   ]
  },
  {
   "cell_type": "markdown",
   "id": "662e8101",
   "metadata": {},
   "source": [
    "Using iris data from our mySQL server and the methods used in the lesson above:\n",
    "\n",
    "Acquire, prepare & split your data."
   ]
  },
  {
   "cell_type": "code",
   "execution_count": 72,
   "id": "176fee3c",
   "metadata": {},
   "outputs": [],
   "source": [
    "iris = acquire.get_iris_data()"
   ]
  },
  {
   "cell_type": "code",
   "execution_count": 50,
   "id": "bffc9cd3",
   "metadata": {},
   "outputs": [],
   "source": [
    "iris = prepare.prep_iris(iris)"
   ]
  },
  {
   "cell_type": "code",
   "execution_count": 51,
   "id": "c666176d",
   "metadata": {},
   "outputs": [],
   "source": [
    "train, validate, test = prepare.split_train_test(iris, 'name')"
   ]
  },
  {
   "cell_type": "code",
   "execution_count": 52,
   "id": "c5942aa1",
   "metadata": {},
   "outputs": [
    {
     "data": {
      "text/plain": [
       "((75, 7), (45, 7), (30, 7))"
      ]
     },
     "execution_count": 52,
     "metadata": {},
     "output_type": "execute_result"
    }
   ],
   "source": [
    "train.shape, validate.shape, test.shape"
   ]
  },
  {
   "cell_type": "code",
   "execution_count": 73,
   "id": "74a5714a",
   "metadata": {},
   "outputs": [
    {
     "name": "stdout",
     "output_type": "stream",
     "text": [
      "<class 'pandas.core.frame.DataFrame'>\n",
      "Int64Index: 75 entries, 41 to 83\n",
      "Data columns (total 7 columns):\n",
      " #   Column           Non-Null Count  Dtype  \n",
      "---  ------           --------------  -----  \n",
      " 0   name             75 non-null     object \n",
      " 1   sepal_length     75 non-null     float64\n",
      " 2   sepal_width      75 non-null     float64\n",
      " 3   petal_length     75 non-null     float64\n",
      " 4   petal_width      75 non-null     float64\n",
      " 5   name_versicolor  75 non-null     uint8  \n",
      " 6   name_virginica   75 non-null     uint8  \n",
      "dtypes: float64(4), object(1), uint8(2)\n",
      "memory usage: 3.7+ KB\n"
     ]
    },
    {
     "data": {
      "text/html": [
       "<div>\n",
       "<style scoped>\n",
       "    .dataframe tbody tr th:only-of-type {\n",
       "        vertical-align: middle;\n",
       "    }\n",
       "\n",
       "    .dataframe tbody tr th {\n",
       "        vertical-align: top;\n",
       "    }\n",
       "\n",
       "    .dataframe thead th {\n",
       "        text-align: right;\n",
       "    }\n",
       "</style>\n",
       "<table border=\"1\" class=\"dataframe\">\n",
       "  <thead>\n",
       "    <tr style=\"text-align: right;\">\n",
       "      <th></th>\n",
       "      <th>Unnamed: 0</th>\n",
       "      <th>species_id</th>\n",
       "      <th>species_name</th>\n",
       "      <th>measurement_id</th>\n",
       "      <th>sepal_length</th>\n",
       "      <th>sepal_width</th>\n",
       "      <th>petal_length</th>\n",
       "      <th>petal_width</th>\n",
       "    </tr>\n",
       "  </thead>\n",
       "  <tbody>\n",
       "    <tr>\n",
       "      <th>0</th>\n",
       "      <td>0</td>\n",
       "      <td>1</td>\n",
       "      <td>setosa</td>\n",
       "      <td>1</td>\n",
       "      <td>5.1</td>\n",
       "      <td>3.5</td>\n",
       "      <td>1.4</td>\n",
       "      <td>0.2</td>\n",
       "    </tr>\n",
       "    <tr>\n",
       "      <th>1</th>\n",
       "      <td>1</td>\n",
       "      <td>1</td>\n",
       "      <td>setosa</td>\n",
       "      <td>2</td>\n",
       "      <td>4.9</td>\n",
       "      <td>3.0</td>\n",
       "      <td>1.4</td>\n",
       "      <td>0.2</td>\n",
       "    </tr>\n",
       "    <tr>\n",
       "      <th>2</th>\n",
       "      <td>2</td>\n",
       "      <td>1</td>\n",
       "      <td>setosa</td>\n",
       "      <td>3</td>\n",
       "      <td>4.7</td>\n",
       "      <td>3.2</td>\n",
       "      <td>1.3</td>\n",
       "      <td>0.2</td>\n",
       "    </tr>\n",
       "    <tr>\n",
       "      <th>3</th>\n",
       "      <td>3</td>\n",
       "      <td>1</td>\n",
       "      <td>setosa</td>\n",
       "      <td>4</td>\n",
       "      <td>4.6</td>\n",
       "      <td>3.1</td>\n",
       "      <td>1.5</td>\n",
       "      <td>0.2</td>\n",
       "    </tr>\n",
       "    <tr>\n",
       "      <th>4</th>\n",
       "      <td>4</td>\n",
       "      <td>1</td>\n",
       "      <td>setosa</td>\n",
       "      <td>5</td>\n",
       "      <td>5.0</td>\n",
       "      <td>3.6</td>\n",
       "      <td>1.4</td>\n",
       "      <td>0.2</td>\n",
       "    </tr>\n",
       "  </tbody>\n",
       "</table>\n",
       "</div>"
      ],
      "text/plain": [
       "   Unnamed: 0  species_id species_name  measurement_id  sepal_length  \\\n",
       "0           0           1       setosa               1           5.1   \n",
       "1           1           1       setosa               2           4.9   \n",
       "2           2           1       setosa               3           4.7   \n",
       "3           3           1       setosa               4           4.6   \n",
       "4           4           1       setosa               5           5.0   \n",
       "\n",
       "   sepal_width  petal_length  petal_width  \n",
       "0          3.5           1.4          0.2  \n",
       "1          3.0           1.4          0.2  \n",
       "2          3.2           1.3          0.2  \n",
       "3          3.1           1.5          0.2  \n",
       "4          3.6           1.4          0.2  "
      ]
     },
     "execution_count": 73,
     "metadata": {},
     "output_type": "execute_result"
    }
   ],
   "source": [
    "train.info()\n",
    "train.head()\n",
    "iris.head()"
   ]
  },
  {
   "cell_type": "markdown",
   "id": "416bbc6e",
   "metadata": {},
   "source": [
    "Univariate Stats\n",
    "\n",
    "For each measurement type (quantitative variable): create a histogram, boxplot, & compute descriptive statistics (using .describe())."
   ]
  },
  {
   "cell_type": "code",
   "execution_count": 95,
   "id": "c488c8cf",
   "metadata": {},
   "outputs": [
    {
     "data": {
      "image/png": "[encoded data removed]",
      "text/plain": [
       "<Figure size 640x480 with 1 Axes>"
      ]
     },
     "metadata": {},
     "output_type": "display_data"
    },
    {
     "data": {
      "image/png": "[encoded data removed]",
      "text/plain": [
       "<Figure size 640x480 with 1 Axes>"
      ]
     },
     "metadata": {},
     "output_type": "display_data"
    },
    {
     "data": {
      "text/plain": [
       "count    75.000000\n",
       "mean      5.848000\n",
       "std       0.844595\n",
       "min       4.300000\n",
       "25%       5.100000\n",
       "50%       5.800000\n",
       "75%       6.450000\n",
       "max       7.900000\n",
       "Name: sepal_length, dtype: float64"
      ]
     },
     "execution_count": 95,
     "metadata": {},
     "output_type": "execute_result"
    }
   ],
   "source": [
    "#identify the columns that are numeric\n",
    "#filter the dataframe by those column names\n",
    "\n",
    "num_cols = train.columns[[train[col].dtype == 'float64' for col in train.columns]] \n",
    "num_cols\n",
    "\n",
    "#loop through each numeric column and plot a histogram and barplot\n",
    "#and compute descriptive stats\n",
    "\n",
    "#but before doing that, make it work for one variable\n",
    "col = 'sepal_length'\n",
    "#histogram\n",
    "plt.hist(train[col])\n",
    "plt.title(col)\n",
    "plt.ylabel('frequency')\n",
    "plt.show()\n",
    "#boxplot\n",
    "plt.boxplot(train[col])\n",
    "plt.ylabel(col)\n",
    "plt.show()\n",
    "#compute descriptive statistics\n",
    "train[col].describe()"
   ]
  },
  {
   "cell_type": "code",
   "execution_count": 76,
   "id": "b881a971",
   "metadata": {},
   "outputs": [
    {
     "data": {
      "image/png": "[encoded data removed]",
      "text/plain": [
       "<Figure size 640x480 with 1 Axes>"
      ]
     },
     "metadata": {},
     "output_type": "display_data"
    },
    {
     "data": {
      "image/png": "[encoded data removed]",
      "text/plain": [
       "<Figure size 640x480 with 1 Axes>"
      ]
     },
     "metadata": {},
     "output_type": "display_data"
    },
    {
     "data": {
      "image/png": "[encoded data removed]",
      "text/plain": [
       "<Figure size 640x480 with 1 Axes>"
      ]
     },
     "metadata": {},
     "output_type": "display_data"
    },
    {
     "data": {
      "image/png": "[encoded data removed]",
      "text/plain": [
       "<Figure size 640x480 with 1 Axes>"
      ]
     },
     "metadata": {},
     "output_type": "display_data"
    },
    {
     "data": {
      "image/png": "[encoded data removed]",
      "text/plain": [
       "<Figure size 640x480 with 1 Axes>"
      ]
     },
     "metadata": {},
     "output_type": "display_data"
    },
    {
     "data": {
      "image/png": "[encoded data removed]",
      "text/plain": [
       "<Figure size 640x480 with 1 Axes>"
      ]
     },
     "metadata": {},
     "output_type": "display_data"
    },
    {
     "data": {
      "image/png": "[encoded data removed]",
      "text/plain": [
       "<Figure size 640x480 with 1 Axes>"
      ]
     },
     "metadata": {},
     "output_type": "display_data"
    },
    {
     "data": {
      "image/png": "[encoded data removed]",
      "text/plain": [
       "<Figure size 640x480 with 1 Axes>"
      ]
     },
     "metadata": {},
     "output_type": "display_data"
    },
    {
     "data": {
      "image/png": "[encoded data removed]",
      "text/plain": [
       "<Figure size 640x480 with 1 Axes>"
      ]
     },
     "metadata": {},
     "output_type": "display_data"
    },
    {
     "data": {
      "image/png": "[encoded data removed]",
      "text/plain": [
       "<Figure size 640x480 with 1 Axes>"
      ]
     },
     "metadata": {},
     "output_type": "display_data"
    },
    {
     "data": {
      "image/png": "[encoded data removed]",
      "text/plain": [
       "<Figure size 640x480 with 1 Axes>"
      ]
     },
     "metadata": {},
     "output_type": "display_data"
    },
    {
     "data": {
      "image/png": "[encoded data removed]",
      "text/plain": [
       "<Figure size 640x480 with 1 Axes>"
      ]
     },
     "metadata": {},
     "output_type": "display_data"
    }
   ],
   "source": [
    "for col in num_cols:\n",
    "    \n",
    "    col = 'sepal_length'\n",
    "    \n",
    "    #histogram\n",
    "    plt.hist(train[col])\n",
    "    plt.title(col)\n",
    "    plt.ylabel('frequency')\n",
    "    plt.show()\n",
    "    \n",
    "    #boxplot\n",
    "    plt.boxplot(train[col])\n",
    "    plt.ylabel(col)\n",
    "    plt.show()\n",
    "    \n",
    "    #compute descriptive statistics\n",
    "    train[col].describe()"
   ]
  },
  {
   "cell_type": "code",
   "execution_count": 29,
   "id": "f6ea8034",
   "metadata": {},
   "outputs": [
    {
     "data": {
      "text/plain": [
       "(array([ 1.,  2.,  7.,  8., 14., 17., 12.,  4.,  3.,  7.]),\n",
       " array([2. , 2.2, 2.4, 2.6, 2.8, 3. , 3.2, 3.4, 3.6, 3.8, 4. ]),\n",
       " <BarContainer object of 10 artists>)"
      ]
     },
     "execution_count": 29,
     "metadata": {},
     "output_type": "execute_result"
    },
    {
     "data": {
      "image/png": "[encoded data removed]",
      "text/plain": [
       "<Figure size 640x480 with 1 Axes>"
      ]
     },
     "metadata": {},
     "output_type": "display_data"
    }
   ],
   "source": [
    "plt.hist(data=train, x='sepal_length')\n",
    "plt.hist(data=train, x='sepal_width')"
   ]
  },
  {
   "cell_type": "code",
   "execution_count": 57,
   "id": "afead289",
   "metadata": {},
   "outputs": [
    {
     "data": {
      "text/plain": [
       "(array([20.,  5.,  0.,  3.,  5., 15.,  4., 11.,  5.,  7.]),\n",
       " array([0.1 , 0.34, 0.58, 0.82, 1.06, 1.3 , 1.54, 1.78, 2.02, 2.26, 2.5 ]),\n",
       " <BarContainer object of 10 artists>)"
      ]
     },
     "execution_count": 57,
     "metadata": {},
     "output_type": "execute_result"
    },
    {
     "data": {
      "image/png": "[encoded data removed]",
      "text/plain": [
       "<Figure size 640x480 with 1 Axes>"
      ]
     },
     "metadata": {},
     "output_type": "display_data"
    }
   ],
   "source": [
    "plt.hist(data=train, x='petal_length')\n",
    "plt.hist(data=train, x='petal_width')"
   ]
  },
  {
   "cell_type": "code",
   "execution_count": 86,
   "id": "665df4d2",
   "metadata": {},
   "outputs": [
    {
     "data": {
      "image/png": "[encoded data removed]",
      "text/plain": [
       "<Figure size 640x480 with 1 Axes>"
      ]
     },
     "metadata": {},
     "output_type": "display_data"
    },
    {
     "data": {
      "image/png": "[encoded data removed]",
      "text/plain": [
       "<Figure size 640x480 with 1 Axes>"
      ]
     },
     "metadata": {},
     "output_type": "display_data"
    },
    {
     "data": {
      "image/png": "[encoded data removed]",
      "text/plain": [
       "<Figure size 640x480 with 1 Axes>"
      ]
     },
     "metadata": {},
     "output_type": "display_data"
    },
    {
     "data": {
      "image/png": "[encoded data removed]",
      "text/plain": [
       "<Figure size 640x480 with 1 Axes>"
      ]
     },
     "metadata": {},
     "output_type": "display_data"
    }
   ],
   "source": [
    "plt.boxplot(data=train, x='sepal_length')\n",
    "plt.title(col)\n",
    "plt.show()\n",
    "\n",
    "plt.boxplot(data=train, x='sepal_width')\n",
    "plt.title(col)\n",
    "plt.show()\n",
    "\n",
    "plt.boxplot(data=train, x='petal_length')\n",
    "plt.title(col)            \n",
    "plt.show()\n",
    "\n",
    "plt.boxplot(data=train, x='petal_width')\n",
    "plt.title(col)\n",
    "plt.show()"
   ]
  },
  {
   "cell_type": "markdown",
   "id": "97638624",
   "metadata": {},
   "source": [
    "For each species (categorical variable): create a frequency table and a bar plot of those frequencies.\n",
    "\n"
   ]
  },
  {
   "cell_type": "code",
   "execution_count": 35,
   "id": "295ef1bc",
   "metadata": {},
   "outputs": [
    {
     "data": {
      "text/html": [
       "<div>\n",
       "<style scoped>\n",
       "    .dataframe tbody tr th:only-of-type {\n",
       "        vertical-align: middle;\n",
       "    }\n",
       "\n",
       "    .dataframe tbody tr th {\n",
       "        vertical-align: top;\n",
       "    }\n",
       "\n",
       "    .dataframe thead th {\n",
       "        text-align: right;\n",
       "    }\n",
       "</style>\n",
       "<table border=\"1\" class=\"dataframe\">\n",
       "  <thead>\n",
       "    <tr style=\"text-align: right;\">\n",
       "      <th></th>\n",
       "      <th>name</th>\n",
       "      <th>sepal_length</th>\n",
       "      <th>sepal_width</th>\n",
       "      <th>petal_length</th>\n",
       "      <th>petal_width</th>\n",
       "      <th>name_versicolor</th>\n",
       "      <th>name_virginica</th>\n",
       "    </tr>\n",
       "  </thead>\n",
       "  <tbody>\n",
       "    <tr>\n",
       "      <th>41</th>\n",
       "      <td>setosa</td>\n",
       "      <td>4.5</td>\n",
       "      <td>2.3</td>\n",
       "      <td>1.3</td>\n",
       "      <td>0.3</td>\n",
       "      <td>0</td>\n",
       "      <td>0</td>\n",
       "    </tr>\n",
       "    <tr>\n",
       "      <th>1</th>\n",
       "      <td>setosa</td>\n",
       "      <td>4.9</td>\n",
       "      <td>3.0</td>\n",
       "      <td>1.4</td>\n",
       "      <td>0.2</td>\n",
       "      <td>0</td>\n",
       "      <td>0</td>\n",
       "    </tr>\n",
       "    <tr>\n",
       "      <th>144</th>\n",
       "      <td>virginica</td>\n",
       "      <td>6.7</td>\n",
       "      <td>3.3</td>\n",
       "      <td>5.7</td>\n",
       "      <td>2.5</td>\n",
       "      <td>0</td>\n",
       "      <td>1</td>\n",
       "    </tr>\n",
       "    <tr>\n",
       "      <th>131</th>\n",
       "      <td>virginica</td>\n",
       "      <td>7.9</td>\n",
       "      <td>3.8</td>\n",
       "      <td>6.4</td>\n",
       "      <td>2.0</td>\n",
       "      <td>0</td>\n",
       "      <td>1</td>\n",
       "    </tr>\n",
       "    <tr>\n",
       "      <th>61</th>\n",
       "      <td>versicolor</td>\n",
       "      <td>5.9</td>\n",
       "      <td>3.0</td>\n",
       "      <td>4.2</td>\n",
       "      <td>1.5</td>\n",
       "      <td>1</td>\n",
       "      <td>0</td>\n",
       "    </tr>\n",
       "  </tbody>\n",
       "</table>\n",
       "</div>"
      ],
      "text/plain": [
       "           name  sepal_length  sepal_width  petal_length  petal_width  \\\n",
       "41       setosa           4.5          2.3           1.3          0.3   \n",
       "1        setosa           4.9          3.0           1.4          0.2   \n",
       "144   virginica           6.7          3.3           5.7          2.5   \n",
       "131   virginica           7.9          3.8           6.4          2.0   \n",
       "61   versicolor           5.9          3.0           4.2          1.5   \n",
       "\n",
       "     name_versicolor  name_virginica  \n",
       "41                 0               0  \n",
       "1                  0               0  \n",
       "144                0               1  \n",
       "131                0               1  \n",
       "61                 1               0  "
      ]
     },
     "execution_count": 35,
     "metadata": {},
     "output_type": "execute_result"
    }
   ],
   "source": [
    "train.head()"
   ]
  },
  {
   "cell_type": "code",
   "execution_count": 36,
   "id": "1f10db9b",
   "metadata": {},
   "outputs": [
    {
     "data": {
      "text/plain": [
       "<AxesSubplot:xlabel='name', ylabel='count'>"
      ]
     },
     "execution_count": 36,
     "metadata": {},
     "output_type": "execute_result"
    },
    {
     "data": {
      "image/png": "[encoded data removed]",
      "text/plain": [
       "<Figure size 640x480 with 1 Axes>"
      ]
     },
     "metadata": {},
     "output_type": "display_data"
    }
   ],
   "source": [
    "sns.countplot(x=\"name\",data=train)\n"
   ]
  },
  {
   "cell_type": "markdown",
   "id": "9a0c1e8f",
   "metadata": {},
   "source": [
    "Document takeaways & any actions.\n",
    "\n"
   ]
  },
  {
   "cell_type": "code",
   "execution_count": null,
   "id": "7d9c157f",
   "metadata": {},
   "outputs": [],
   "source": []
  },
  {
   "cell_type": "markdown",
   "id": "6e336745",
   "metadata": {},
   "source": [
    "Bivariate Stats\n",
    "\n",
    "Visualize each measurement type (y-axis) with the species variable (x-axis) using barplots, adding a horizontal line showing the overall mean of the metric (y-axis)."
   ]
  },
  {
   "cell_type": "code",
   "execution_count": 44,
   "id": "e16b18db",
   "metadata": {
    "scrolled": false
   },
   "outputs": [
    {
     "data": {
      "text/plain": [
       "<matplotlib.lines.Line2D at 0x14f17a700>"
      ]
     },
     "execution_count": 44,
     "metadata": {},
     "output_type": "execute_result"
    },
    {
     "data": {
      "image/png": "[encoded data removed]",
      "text/plain": [
       "<Figure size 640x480 with 1 Axes>"
      ]
     },
     "metadata": {},
     "output_type": "display_data"
    }
   ],
   "source": [
    "sns.barplot(x='name', y='sepal_length', data=train)\n",
    "plt.axhline(train.sepal_length.median(),\n",
    "            color='blue',\n",
    "            ls='--', \n",
    "            lw=2.5)"
   ]
  },
  {
   "cell_type": "markdown",
   "id": "2ec7b8e5",
   "metadata": {},
   "source": [
    "For each measurement type, compute the descriptive statistics for each species.\n",
    "\n"
   ]
  },
  {
   "cell_type": "code",
   "execution_count": 94,
   "id": "01e07304",
   "metadata": {},
   "outputs": [
    {
     "data": {
      "image/png": "[encoded data removed]",
      "text/plain": [
       "<Figure size 640x480 with 1 Axes>"
      ]
     },
     "metadata": {},
     "output_type": "display_data"
    }
   ],
   "source": [
    "col = 'sepal_length'\n",
    "\n",
    "sns.barplot(x='name', y=col, data=train)\n",
    "plt.title(f'Average {col} for each species')\n",
    "plt.axhline(train.sepal_length.mean(),\n",
    "            label=f'Mean {col}',\n",
    "            color='blue',\n",
    "            ls='--', \n",
    "            lw=2.5)\n",
    "plt.legend()\n",
    "plt.show()"
   ]
  },
  {
   "cell_type": "code",
   "execution_count": null,
   "id": "0b849e70",
   "metadata": {},
   "outputs": [],
   "source": [
    "train.groupby('name').describe"
   ]
  },
  {
   "cell_type": "code",
   "execution_count": 102,
   "id": "b23381fb",
   "metadata": {},
   "outputs": [],
   "source": [
    "col = 'sepal_length'\n",
    "\n",
    "# for col in num_cols:\n",
    "    \n",
    "#     sns.barplot(x='name', y=col, data=train)\n",
    "#     plt.title(f'Average {col} for each species')\n",
    "#     plt.axhline(train[col].mean(),\n",
    "#                 label=f'Mean {col}',\n",
    "#                 color='blue',\n",
    "#                 ls='--')\n",
    "#     plt.legend()\n",
    "#     plt.show()\n",
    "    \n",
    "# train.groupby('name').describe().T"
   ]
  },
  {
   "cell_type": "markdown",
   "id": "e5b31be1",
   "metadata": {},
   "source": [
    "For virginica & versicolor: Compare the mean petal_width using the Mann-Whitney test (scipy.stats.mannwhitneyu) to see if there is a significant difference between the two groups. Do the same for the other measurement types.\n",
    "\n"
   ]
  },
  {
   "cell_type": "markdown",
   "id": "74a77157",
   "metadata": {},
   "source": [
    "$H_0$ : There is no significant difference in the mean petal width for Virginica vs Versicolor  \n",
    "$H_a$ : There is a significant difference in the mean petal width for Virginical vs Versicolor"
   ]
  },
  {
   "cell_type": "code",
   "execution_count": 41,
   "id": "9694270c",
   "metadata": {},
   "outputs": [],
   "source": [
    "virginica = train[train['name'] == 'virginica']\n",
    "versicolor = train[train['name'] == 'versicolor']\n",
    "setosa = train[train['name'] == 'setosa']"
   ]
  },
  {
   "cell_type": "code",
   "execution_count": 103,
   "id": "8b83b670",
   "metadata": {},
   "outputs": [
    {
     "data": {
      "text/plain": [
       "(610.0, 7.376729097701161e-09)"
      ]
     },
     "execution_count": 103,
     "metadata": {},
     "output_type": "execute_result"
    }
   ],
   "source": [
    "alpha = .05\n",
    "t, p = stats.mannwhitneyu(virginica.petal_width, versicolor.petal_width, alternative='two-sided')\n",
    "\n",
    "t, p"
   ]
  },
  {
   "cell_type": "code",
   "execution_count": null,
   "id": "5f732506",
   "metadata": {},
   "outputs": [],
   "source": [
    "vir_pwidth = 2.042857\n",
    "ver_pwidth = 1.334286\n",
    "vir_plength = 5.622857\n",
    "vir_swidth = 2.994286\n",
    "vir_slength = 6.654286\n",
    "ver_plength = 4.297143\n",
    "ver_swidth = 2.782857\n",
    "ver_slength = 5.925714"
   ]
  },
  {
   "cell_type": "code",
   "execution_count": null,
   "id": "347bc785",
   "metadata": {},
   "outputs": [],
   "source": [
    "stats.mannwhitneyu(vir_pwidth, ver_pwidth)"
   ]
  },
  {
   "cell_type": "code",
   "execution_count": null,
   "id": "ef6a9012",
   "metadata": {},
   "outputs": [],
   "source": [
    "stats.mannwhitneyu(vir_plength, ver_plength)"
   ]
  },
  {
   "cell_type": "code",
   "execution_count": null,
   "id": "fa9d7234",
   "metadata": {},
   "outputs": [],
   "source": [
    "stats.mannwhitneyu(vir_swidth, ver_swidth)"
   ]
  },
  {
   "cell_type": "code",
   "execution_count": null,
   "id": "1d684bab",
   "metadata": {},
   "outputs": [],
   "source": [
    "stats.mannwhitneyu(vir_slength, ver_slength)"
   ]
  },
  {
   "cell_type": "markdown",
   "id": "7dbb5651",
   "metadata": {},
   "source": [
    "Document takeaways & any actions.\n",
    "\n"
   ]
  },
  {
   "cell_type": "code",
   "execution_count": null,
   "id": "8818bb07",
   "metadata": {},
   "outputs": [],
   "source": []
  },
  {
   "cell_type": "markdown",
   "id": "784bc5b9",
   "metadata": {},
   "source": [
    "Multivariate Stats\n",
    "\n",
    "Visualize the interaction of each measurement type with the others using a pairplot (or scatter matrix or something similar) and add color to represent species.\n",
    "\n"
   ]
  },
  {
   "cell_type": "code",
   "execution_count": null,
   "id": "78167125",
   "metadata": {},
   "outputs": [],
   "source": [
    "sns.pairplot(data=train, hue='name')"
   ]
  },
  {
   "cell_type": "markdown",
   "id": "5da159ec",
   "metadata": {},
   "source": [
    "Visualize two numeric variables of the species. Hint: sns.relplot with hue or col\n",
    "\n"
   ]
  },
  {
   "cell_type": "code",
   "execution_count": null,
   "id": "81310cfe",
   "metadata": {},
   "outputs": [],
   "source": [
    "sns.relplot(data=train, x='petal_length',y='petal_width', hue='name')"
   ]
  },
  {
   "cell_type": "markdown",
   "id": "ed2c2899",
   "metadata": {},
   "source": [
    "Create a swarmplot using a melted dataframe of all your numeric variables. The x-axis should be the variable name, the y-axis the measure. Add another dimension using color to represent species. Document takeaways from this visualization.\n",
    "\n"
   ]
  },
  {
   "cell_type": "code",
   "execution_count": 47,
   "id": "b5131879",
   "metadata": {},
   "outputs": [
    {
     "data": {
      "text/html": [
       "<div>\n",
       "<style scoped>\n",
       "    .dataframe tbody tr th:only-of-type {\n",
       "        vertical-align: middle;\n",
       "    }\n",
       "\n",
       "    .dataframe tbody tr th {\n",
       "        vertical-align: top;\n",
       "    }\n",
       "\n",
       "    .dataframe thead th {\n",
       "        text-align: right;\n",
       "    }\n",
       "</style>\n",
       "<table border=\"1\" class=\"dataframe\">\n",
       "  <thead>\n",
       "    <tr style=\"text-align: right;\">\n",
       "      <th></th>\n",
       "      <th>name</th>\n",
       "      <th>variable</th>\n",
       "      <th>value</th>\n",
       "    </tr>\n",
       "  </thead>\n",
       "  <tbody>\n",
       "    <tr>\n",
       "      <th>0</th>\n",
       "      <td>setosa</td>\n",
       "      <td>petal_width</td>\n",
       "      <td>0.3</td>\n",
       "    </tr>\n",
       "    <tr>\n",
       "      <th>1</th>\n",
       "      <td>setosa</td>\n",
       "      <td>petal_width</td>\n",
       "      <td>0.2</td>\n",
       "    </tr>\n",
       "    <tr>\n",
       "      <th>2</th>\n",
       "      <td>virginica</td>\n",
       "      <td>petal_width</td>\n",
       "      <td>2.5</td>\n",
       "    </tr>\n",
       "    <tr>\n",
       "      <th>3</th>\n",
       "      <td>virginica</td>\n",
       "      <td>petal_width</td>\n",
       "      <td>2.0</td>\n",
       "    </tr>\n",
       "    <tr>\n",
       "      <th>4</th>\n",
       "      <td>versicolor</td>\n",
       "      <td>petal_width</td>\n",
       "      <td>1.5</td>\n",
       "    </tr>\n",
       "    <tr>\n",
       "      <th>...</th>\n",
       "      <td>...</td>\n",
       "      <td>...</td>\n",
       "      <td>...</td>\n",
       "    </tr>\n",
       "    <tr>\n",
       "      <th>295</th>\n",
       "      <td>setosa</td>\n",
       "      <td>sepal_width</td>\n",
       "      <td>3.2</td>\n",
       "    </tr>\n",
       "    <tr>\n",
       "      <th>296</th>\n",
       "      <td>setosa</td>\n",
       "      <td>sepal_width</td>\n",
       "      <td>3.6</td>\n",
       "    </tr>\n",
       "    <tr>\n",
       "      <th>297</th>\n",
       "      <td>versicolor</td>\n",
       "      <td>sepal_width</td>\n",
       "      <td>2.5</td>\n",
       "    </tr>\n",
       "    <tr>\n",
       "      <th>298</th>\n",
       "      <td>virginica</td>\n",
       "      <td>sepal_width</td>\n",
       "      <td>2.5</td>\n",
       "    </tr>\n",
       "    <tr>\n",
       "      <th>299</th>\n",
       "      <td>versicolor</td>\n",
       "      <td>sepal_width</td>\n",
       "      <td>2.7</td>\n",
       "    </tr>\n",
       "  </tbody>\n",
       "</table>\n",
       "<p>300 rows × 3 columns</p>\n",
       "</div>"
      ],
      "text/plain": [
       "           name     variable  value\n",
       "0        setosa  petal_width    0.3\n",
       "1        setosa  petal_width    0.2\n",
       "2     virginica  petal_width    2.5\n",
       "3     virginica  petal_width    2.0\n",
       "4    versicolor  petal_width    1.5\n",
       "..          ...          ...    ...\n",
       "295      setosa  sepal_width    3.2\n",
       "296      setosa  sepal_width    3.6\n",
       "297  versicolor  sepal_width    2.5\n",
       "298   virginica  sepal_width    2.5\n",
       "299  versicolor  sepal_width    2.7\n",
       "\n",
       "[300 rows x 3 columns]"
      ]
     },
     "execution_count": 47,
     "metadata": {},
     "output_type": "execute_result"
    }
   ],
   "source": [
    "melted_train = train.melt(id_vars='name', value_vars=['petal_width', 'petal_length', \n",
    "                                                      'sepal_length', 'sepal_width'])\n",
    "melted_train"
   ]
  },
  {
   "cell_type": "code",
   "execution_count": 48,
   "id": "82576cb6",
   "metadata": {},
   "outputs": [
    {
     "data": {
      "text/plain": [
       "<AxesSubplot:xlabel='variable', ylabel='value'>"
      ]
     },
     "execution_count": 48,
     "metadata": {},
     "output_type": "execute_result"
    },
    {
     "data": {
      "image/png": "[encoded data removed]",
      "text/plain": [
       "<Figure size 640x480 with 1 Axes>"
      ]
     },
     "metadata": {},
     "output_type": "display_data"
    }
   ],
   "source": [
    "sns.swarmplot(data=melted_train, x='variable', y='value', hue='name')"
   ]
  },
  {
   "cell_type": "markdown",
   "id": "a8a3f96b",
   "metadata": {},
   "source": [
    "Ask a specific question of the data, such as: is the sepal area signficantly different in virginica compared to setosa? Answer the question through both a plot and using a mann-whitney or t-test. If you use a t-test, be sure assumptions are met (independence, normality, equal variance).\n",
    "\n"
   ]
  },
  {
   "cell_type": "code",
   "execution_count": null,
   "id": "c6eb39bb",
   "metadata": {},
   "outputs": [],
   "source": []
  },
  {
   "cell_type": "markdown",
   "id": "a7d8c182",
   "metadata": {},
   "source": [
    "Document takeaways and any actions.\n",
    "\n"
   ]
  },
  {
   "cell_type": "code",
   "execution_count": null,
   "id": "6b82072e",
   "metadata": {},
   "outputs": [],
   "source": []
  },
  {
   "cell_type": "markdown",
   "id": "572fd946",
   "metadata": {},
   "source": [
    "Part II\n",
    "\n",
    "Explore your titanic dataset more completely.\n",
    "\n",
    "Determine drivers of the target variable \n",
    "- Target variable here being whether or not the passenger survived"
   ]
  },
  {
   "cell_type": "code",
   "execution_count": null,
   "id": "13d73322",
   "metadata": {},
   "outputs": [],
   "source": [
    "titanic = acquire.get_titanic_data()"
   ]
  },
  {
   "cell_type": "code",
   "execution_count": null,
   "id": "ee95f098",
   "metadata": {},
   "outputs": [],
   "source": [
    "titanic = prepare.prep_titanic(titanic)"
   ]
  },
  {
   "cell_type": "code",
   "execution_count": null,
   "id": "e7b96cf6",
   "metadata": {},
   "outputs": [],
   "source": [
    "titanic.head()"
   ]
  },
  {
   "cell_type": "markdown",
   "id": "6711091e",
   "metadata": {},
   "source": [
    "Determine if certain columns should be dropped\n"
   ]
  },
  {
   "cell_type": "markdown",
   "id": "414b0c6d",
   "metadata": {},
   "source": [
    "Determine if it would be valuable to bin some numeric columns\n"
   ]
  },
  {
   "cell_type": "code",
   "execution_count": null,
   "id": "cc5a1f1a",
   "metadata": {},
   "outputs": [],
   "source": [
    "titanic['fare_bins'] = pd.qcut(titanic['fare'], q=10)"
   ]
  },
  {
   "cell_type": "code",
   "execution_count": null,
   "id": "0dc75022",
   "metadata": {},
   "outputs": [],
   "source": [
    "titanic['age_bins'] = pd.qcut(titanic['age'], q=8)"
   ]
  },
  {
   "cell_type": "code",
   "execution_count": null,
   "id": "e5b019a1",
   "metadata": {},
   "outputs": [],
   "source": [
    "titanic.head()"
   ]
  },
  {
   "cell_type": "markdown",
   "id": "aee09163",
   "metadata": {},
   "source": [
    "Determine if it would be valuable to combine multiple columns into one.\n"
   ]
  },
  {
   "cell_type": "markdown",
   "id": "1362682c",
   "metadata": {},
   "source": [
    "Does it make sense to combine any features?\n",
    "\n"
   ]
  },
  {
   "cell_type": "markdown",
   "id": "c9bcbce4",
   "metadata": {},
   "source": [
    "No, considering where I have this dataframe, combining any of these features together doesn't seem useful."
   ]
  },
  {
   "cell_type": "markdown",
   "id": "4840c8af",
   "metadata": {},
   "source": [
    "Do you find any surprises?\n",
    "\n"
   ]
  },
  {
   "cell_type": "markdown",
   "id": "c0e6db70",
   "metadata": {},
   "source": [
    "My main surprise here is that there is a huge disparity from the most expensive tickets to the next most expensive. I knew there was a difference, but only very few of them were in the hundreds."
   ]
  },
  {
   "cell_type": "markdown",
   "id": "b81afe93",
   "metadata": {},
   "source": [
    "Document any and all findings and takeaways in your notebook using markdown.\n",
    "\n"
   ]
  },
  {
   "cell_type": "code",
   "execution_count": null,
   "id": "fd62dc9c",
   "metadata": {},
   "outputs": [],
   "source": []
  },
  {
   "cell_type": "markdown",
   "id": "a746d2e9",
   "metadata": {},
   "source": [
    "Part III\n",
    "\n",
    "Explore your telco data to discover drivers of churn"
   ]
  },
  {
   "cell_type": "code",
   "execution_count": 15,
   "id": "90ef8f52",
   "metadata": {},
   "outputs": [
    {
     "data": {
      "text/html": [
       "<div>\n",
       "<style scoped>\n",
       "    .dataframe tbody tr th:only-of-type {\n",
       "        vertical-align: middle;\n",
       "    }\n",
       "\n",
       "    .dataframe tbody tr th {\n",
       "        vertical-align: top;\n",
       "    }\n",
       "\n",
       "    .dataframe thead th {\n",
       "        text-align: right;\n",
       "    }\n",
       "</style>\n",
       "<table border=\"1\" class=\"dataframe\">\n",
       "  <thead>\n",
       "    <tr style=\"text-align: right;\">\n",
       "      <th></th>\n",
       "      <th>Unnamed: 0</th>\n",
       "      <th>payment_type_id</th>\n",
       "      <th>internet_service_type_id</th>\n",
       "      <th>contract_type_id</th>\n",
       "      <th>customer_id</th>\n",
       "      <th>gender</th>\n",
       "      <th>senior_citizen</th>\n",
       "      <th>partner</th>\n",
       "      <th>dependents</th>\n",
       "      <th>tenure</th>\n",
       "      <th>phone_service</th>\n",
       "      <th>multiple_lines</th>\n",
       "      <th>online_security</th>\n",
       "      <th>online_backup</th>\n",
       "      <th>device_protection</th>\n",
       "      <th>tech_support</th>\n",
       "      <th>streaming_tv</th>\n",
       "      <th>streaming_movies</th>\n",
       "      <th>paperless_billing</th>\n",
       "      <th>monthly_charges</th>\n",
       "      <th>total_charges</th>\n",
       "      <th>churn</th>\n",
       "      <th>contract_type</th>\n",
       "      <th>internet_service_type</th>\n",
       "      <th>payment_type</th>\n",
       "    </tr>\n",
       "  </thead>\n",
       "  <tbody>\n",
       "    <tr>\n",
       "      <th>0</th>\n",
       "      <td>0</td>\n",
       "      <td>2</td>\n",
       "      <td>1</td>\n",
       "      <td>2</td>\n",
       "      <td>0002-ORFBO</td>\n",
       "      <td>Female</td>\n",
       "      <td>0</td>\n",
       "      <td>Yes</td>\n",
       "      <td>Yes</td>\n",
       "      <td>9</td>\n",
       "      <td>Yes</td>\n",
       "      <td>No</td>\n",
       "      <td>No</td>\n",
       "      <td>Yes</td>\n",
       "      <td>No</td>\n",
       "      <td>Yes</td>\n",
       "      <td>Yes</td>\n",
       "      <td>No</td>\n",
       "      <td>Yes</td>\n",
       "      <td>65.6</td>\n",
       "      <td>593.3</td>\n",
       "      <td>No</td>\n",
       "      <td>One year</td>\n",
       "      <td>DSL</td>\n",
       "      <td>Mailed check</td>\n",
       "    </tr>\n",
       "    <tr>\n",
       "      <th>1</th>\n",
       "      <td>1</td>\n",
       "      <td>2</td>\n",
       "      <td>1</td>\n",
       "      <td>1</td>\n",
       "      <td>0003-MKNFE</td>\n",
       "      <td>Male</td>\n",
       "      <td>0</td>\n",
       "      <td>No</td>\n",
       "      <td>No</td>\n",
       "      <td>9</td>\n",
       "      <td>Yes</td>\n",
       "      <td>Yes</td>\n",
       "      <td>No</td>\n",
       "      <td>No</td>\n",
       "      <td>No</td>\n",
       "      <td>No</td>\n",
       "      <td>No</td>\n",
       "      <td>Yes</td>\n",
       "      <td>No</td>\n",
       "      <td>59.9</td>\n",
       "      <td>542.4</td>\n",
       "      <td>No</td>\n",
       "      <td>Month-to-month</td>\n",
       "      <td>DSL</td>\n",
       "      <td>Mailed check</td>\n",
       "    </tr>\n",
       "    <tr>\n",
       "      <th>2</th>\n",
       "      <td>2</td>\n",
       "      <td>1</td>\n",
       "      <td>2</td>\n",
       "      <td>1</td>\n",
       "      <td>0004-TLHLJ</td>\n",
       "      <td>Male</td>\n",
       "      <td>0</td>\n",
       "      <td>No</td>\n",
       "      <td>No</td>\n",
       "      <td>4</td>\n",
       "      <td>Yes</td>\n",
       "      <td>No</td>\n",
       "      <td>No</td>\n",
       "      <td>No</td>\n",
       "      <td>Yes</td>\n",
       "      <td>No</td>\n",
       "      <td>No</td>\n",
       "      <td>No</td>\n",
       "      <td>Yes</td>\n",
       "      <td>73.9</td>\n",
       "      <td>280.85</td>\n",
       "      <td>Yes</td>\n",
       "      <td>Month-to-month</td>\n",
       "      <td>Fiber optic</td>\n",
       "      <td>Electronic check</td>\n",
       "    </tr>\n",
       "    <tr>\n",
       "      <th>3</th>\n",
       "      <td>3</td>\n",
       "      <td>1</td>\n",
       "      <td>2</td>\n",
       "      <td>1</td>\n",
       "      <td>0011-IGKFF</td>\n",
       "      <td>Male</td>\n",
       "      <td>1</td>\n",
       "      <td>Yes</td>\n",
       "      <td>No</td>\n",
       "      <td>13</td>\n",
       "      <td>Yes</td>\n",
       "      <td>No</td>\n",
       "      <td>No</td>\n",
       "      <td>Yes</td>\n",
       "      <td>Yes</td>\n",
       "      <td>No</td>\n",
       "      <td>Yes</td>\n",
       "      <td>Yes</td>\n",
       "      <td>Yes</td>\n",
       "      <td>98.0</td>\n",
       "      <td>1237.85</td>\n",
       "      <td>Yes</td>\n",
       "      <td>Month-to-month</td>\n",
       "      <td>Fiber optic</td>\n",
       "      <td>Electronic check</td>\n",
       "    </tr>\n",
       "    <tr>\n",
       "      <th>4</th>\n",
       "      <td>4</td>\n",
       "      <td>2</td>\n",
       "      <td>2</td>\n",
       "      <td>1</td>\n",
       "      <td>0013-EXCHZ</td>\n",
       "      <td>Female</td>\n",
       "      <td>1</td>\n",
       "      <td>Yes</td>\n",
       "      <td>No</td>\n",
       "      <td>3</td>\n",
       "      <td>Yes</td>\n",
       "      <td>No</td>\n",
       "      <td>No</td>\n",
       "      <td>No</td>\n",
       "      <td>No</td>\n",
       "      <td>Yes</td>\n",
       "      <td>Yes</td>\n",
       "      <td>No</td>\n",
       "      <td>Yes</td>\n",
       "      <td>83.9</td>\n",
       "      <td>267.4</td>\n",
       "      <td>Yes</td>\n",
       "      <td>Month-to-month</td>\n",
       "      <td>Fiber optic</td>\n",
       "      <td>Mailed check</td>\n",
       "    </tr>\n",
       "  </tbody>\n",
       "</table>\n",
       "</div>"
      ],
      "text/plain": [
       "   Unnamed: 0  payment_type_id  internet_service_type_id  contract_type_id  \\\n",
       "0           0                2                         1                 2   \n",
       "1           1                2                         1                 1   \n",
       "2           2                1                         2                 1   \n",
       "3           3                1                         2                 1   \n",
       "4           4                2                         2                 1   \n",
       "\n",
       "  customer_id  gender  senior_citizen partner dependents  tenure  \\\n",
       "0  0002-ORFBO  Female               0     Yes        Yes       9   \n",
       "1  0003-MKNFE    Male               0      No         No       9   \n",
       "2  0004-TLHLJ    Male               0      No         No       4   \n",
       "3  0011-IGKFF    Male               1     Yes         No      13   \n",
       "4  0013-EXCHZ  Female               1     Yes         No       3   \n",
       "\n",
       "  phone_service multiple_lines online_security online_backup  \\\n",
       "0           Yes             No              No           Yes   \n",
       "1           Yes            Yes              No            No   \n",
       "2           Yes             No              No            No   \n",
       "3           Yes             No              No           Yes   \n",
       "4           Yes             No              No            No   \n",
       "\n",
       "  device_protection tech_support streaming_tv streaming_movies  \\\n",
       "0                No          Yes          Yes               No   \n",
       "1                No           No           No              Yes   \n",
       "2               Yes           No           No               No   \n",
       "3               Yes           No          Yes              Yes   \n",
       "4                No          Yes          Yes               No   \n",
       "\n",
       "  paperless_billing  monthly_charges total_charges churn   contract_type  \\\n",
       "0               Yes             65.6         593.3    No        One year   \n",
       "1                No             59.9         542.4    No  Month-to-month   \n",
       "2               Yes             73.9        280.85   Yes  Month-to-month   \n",
       "3               Yes             98.0       1237.85   Yes  Month-to-month   \n",
       "4               Yes             83.9         267.4   Yes  Month-to-month   \n",
       "\n",
       "  internet_service_type      payment_type  \n",
       "0                   DSL      Mailed check  \n",
       "1                   DSL      Mailed check  \n",
       "2           Fiber optic  Electronic check  \n",
       "3           Fiber optic  Electronic check  \n",
       "4           Fiber optic      Mailed check  "
      ]
     },
     "execution_count": 15,
     "metadata": {},
     "output_type": "execute_result"
    }
   ],
   "source": [
    "telco = acquire.get_telco_data()\n",
    "\n",
    "telco.head()"
   ]
  },
  {
   "cell_type": "code",
   "execution_count": 16,
   "id": "f06a80c2",
   "metadata": {},
   "outputs": [],
   "source": [
    "telco = prepare.prep_telco(telco)"
   ]
  },
  {
   "cell_type": "code",
   "execution_count": 17,
   "id": "adba45e5",
   "metadata": {},
   "outputs": [
    {
     "data": {
      "text/html": [
       "<div>\n",
       "<style scoped>\n",
       "    .dataframe tbody tr th:only-of-type {\n",
       "        vertical-align: middle;\n",
       "    }\n",
       "\n",
       "    .dataframe tbody tr th {\n",
       "        vertical-align: top;\n",
       "    }\n",
       "\n",
       "    .dataframe thead th {\n",
       "        text-align: right;\n",
       "    }\n",
       "</style>\n",
       "<table border=\"1\" class=\"dataframe\">\n",
       "  <thead>\n",
       "    <tr style=\"text-align: right;\">\n",
       "      <th></th>\n",
       "      <th>gender</th>\n",
       "      <th>senior_citizen</th>\n",
       "      <th>partner</th>\n",
       "      <th>dependents</th>\n",
       "      <th>tenure</th>\n",
       "      <th>phone_service</th>\n",
       "      <th>multiple_lines</th>\n",
       "      <th>online_security</th>\n",
       "      <th>online_backup</th>\n",
       "      <th>device_protection</th>\n",
       "      <th>tech_support</th>\n",
       "      <th>streaming_tv</th>\n",
       "      <th>streaming_movies</th>\n",
       "      <th>paperless_billing</th>\n",
       "      <th>monthly_charges</th>\n",
       "      <th>total_charges</th>\n",
       "      <th>churn</th>\n",
       "      <th>contract_type</th>\n",
       "      <th>internet_service_type</th>\n",
       "      <th>payment_type</th>\n",
       "      <th>contract_type</th>\n",
       "      <th>dependents</th>\n",
       "      <th>device_protection</th>\n",
       "      <th>gender</th>\n",
       "      <th>internet_service_type</th>\n",
       "      <th>multiple_lines</th>\n",
       "      <th>online_backup</th>\n",
       "      <th>online_security</th>\n",
       "      <th>paperless_billing</th>\n",
       "      <th>partner</th>\n",
       "      <th>payment_type</th>\n",
       "      <th>phone_service</th>\n",
       "      <th>streaming_movies</th>\n",
       "      <th>streaming_tv</th>\n",
       "      <th>tech_support</th>\n",
       "    </tr>\n",
       "  </thead>\n",
       "  <tbody>\n",
       "    <tr>\n",
       "      <th>0</th>\n",
       "      <td>Female</td>\n",
       "      <td>0</td>\n",
       "      <td>Yes</td>\n",
       "      <td>Yes</td>\n",
       "      <td>9</td>\n",
       "      <td>Yes</td>\n",
       "      <td>No</td>\n",
       "      <td>No</td>\n",
       "      <td>Yes</td>\n",
       "      <td>No</td>\n",
       "      <td>Yes</td>\n",
       "      <td>Yes</td>\n",
       "      <td>No</td>\n",
       "      <td>Yes</td>\n",
       "      <td>65.6</td>\n",
       "      <td>593.3</td>\n",
       "      <td>No</td>\n",
       "      <td>One year</td>\n",
       "      <td>DSL</td>\n",
       "      <td>Mailed check</td>\n",
       "      <td>0.0</td>\n",
       "      <td>0.0</td>\n",
       "      <td>0.0</td>\n",
       "      <td>1.0</td>\n",
       "      <td>0.0</td>\n",
       "      <td>0.0</td>\n",
       "      <td>0.0</td>\n",
       "      <td>0.0</td>\n",
       "      <td>0.0</td>\n",
       "      <td>0.0</td>\n",
       "      <td>0.0</td>\n",
       "      <td>0.0</td>\n",
       "      <td>0.0</td>\n",
       "      <td>0.0</td>\n",
       "      <td>0.0</td>\n",
       "    </tr>\n",
       "    <tr>\n",
       "      <th>1</th>\n",
       "      <td>Male</td>\n",
       "      <td>0</td>\n",
       "      <td>No</td>\n",
       "      <td>No</td>\n",
       "      <td>9</td>\n",
       "      <td>Yes</td>\n",
       "      <td>Yes</td>\n",
       "      <td>No</td>\n",
       "      <td>No</td>\n",
       "      <td>No</td>\n",
       "      <td>No</td>\n",
       "      <td>No</td>\n",
       "      <td>Yes</td>\n",
       "      <td>No</td>\n",
       "      <td>59.9</td>\n",
       "      <td>542.4</td>\n",
       "      <td>No</td>\n",
       "      <td>Month-to-month</td>\n",
       "      <td>DSL</td>\n",
       "      <td>Mailed check</td>\n",
       "      <td>0.0</td>\n",
       "      <td>0.0</td>\n",
       "      <td>0.0</td>\n",
       "      <td>0.0</td>\n",
       "      <td>0.0</td>\n",
       "      <td>0.0</td>\n",
       "      <td>0.0</td>\n",
       "      <td>0.0</td>\n",
       "      <td>0.0</td>\n",
       "      <td>1.0</td>\n",
       "      <td>0.0</td>\n",
       "      <td>0.0</td>\n",
       "      <td>0.0</td>\n",
       "      <td>0.0</td>\n",
       "      <td>0.0</td>\n",
       "    </tr>\n",
       "    <tr>\n",
       "      <th>2</th>\n",
       "      <td>Male</td>\n",
       "      <td>0</td>\n",
       "      <td>No</td>\n",
       "      <td>No</td>\n",
       "      <td>4</td>\n",
       "      <td>Yes</td>\n",
       "      <td>No</td>\n",
       "      <td>No</td>\n",
       "      <td>No</td>\n",
       "      <td>Yes</td>\n",
       "      <td>No</td>\n",
       "      <td>No</td>\n",
       "      <td>No</td>\n",
       "      <td>Yes</td>\n",
       "      <td>73.9</td>\n",
       "      <td>280.85</td>\n",
       "      <td>Yes</td>\n",
       "      <td>Month-to-month</td>\n",
       "      <td>Fiber optic</td>\n",
       "      <td>Electronic check</td>\n",
       "      <td>0.0</td>\n",
       "      <td>1.0</td>\n",
       "      <td>0.0</td>\n",
       "      <td>0.0</td>\n",
       "      <td>0.0</td>\n",
       "      <td>0.0</td>\n",
       "      <td>0.0</td>\n",
       "      <td>0.0</td>\n",
       "      <td>0.0</td>\n",
       "      <td>0.0</td>\n",
       "      <td>0.0</td>\n",
       "      <td>0.0</td>\n",
       "      <td>0.0</td>\n",
       "      <td>0.0</td>\n",
       "      <td>0.0</td>\n",
       "    </tr>\n",
       "    <tr>\n",
       "      <th>3</th>\n",
       "      <td>Male</td>\n",
       "      <td>1</td>\n",
       "      <td>Yes</td>\n",
       "      <td>No</td>\n",
       "      <td>13</td>\n",
       "      <td>Yes</td>\n",
       "      <td>No</td>\n",
       "      <td>No</td>\n",
       "      <td>Yes</td>\n",
       "      <td>Yes</td>\n",
       "      <td>No</td>\n",
       "      <td>Yes</td>\n",
       "      <td>Yes</td>\n",
       "      <td>Yes</td>\n",
       "      <td>98.0</td>\n",
       "      <td>1237.85</td>\n",
       "      <td>Yes</td>\n",
       "      <td>Month-to-month</td>\n",
       "      <td>Fiber optic</td>\n",
       "      <td>Electronic check</td>\n",
       "      <td>0.0</td>\n",
       "      <td>0.0</td>\n",
       "      <td>0.0</td>\n",
       "      <td>0.0</td>\n",
       "      <td>0.0</td>\n",
       "      <td>0.0</td>\n",
       "      <td>0.0</td>\n",
       "      <td>0.0</td>\n",
       "      <td>0.0</td>\n",
       "      <td>0.0</td>\n",
       "      <td>0.0</td>\n",
       "      <td>1.0</td>\n",
       "      <td>0.0</td>\n",
       "      <td>0.0</td>\n",
       "      <td>0.0</td>\n",
       "    </tr>\n",
       "    <tr>\n",
       "      <th>4</th>\n",
       "      <td>Female</td>\n",
       "      <td>1</td>\n",
       "      <td>Yes</td>\n",
       "      <td>No</td>\n",
       "      <td>3</td>\n",
       "      <td>Yes</td>\n",
       "      <td>No</td>\n",
       "      <td>No</td>\n",
       "      <td>No</td>\n",
       "      <td>No</td>\n",
       "      <td>Yes</td>\n",
       "      <td>Yes</td>\n",
       "      <td>No</td>\n",
       "      <td>Yes</td>\n",
       "      <td>83.9</td>\n",
       "      <td>267.4</td>\n",
       "      <td>Yes</td>\n",
       "      <td>Month-to-month</td>\n",
       "      <td>Fiber optic</td>\n",
       "      <td>Mailed check</td>\n",
       "      <td>0.0</td>\n",
       "      <td>0.0</td>\n",
       "      <td>0.0</td>\n",
       "      <td>0.0</td>\n",
       "      <td>0.0</td>\n",
       "      <td>1.0</td>\n",
       "      <td>0.0</td>\n",
       "      <td>0.0</td>\n",
       "      <td>0.0</td>\n",
       "      <td>0.0</td>\n",
       "      <td>0.0</td>\n",
       "      <td>0.0</td>\n",
       "      <td>0.0</td>\n",
       "      <td>0.0</td>\n",
       "      <td>0.0</td>\n",
       "    </tr>\n",
       "  </tbody>\n",
       "</table>\n",
       "</div>"
      ],
      "text/plain": [
       "   gender  senior_citizen  partner  dependents  tenure  phone_service  \\\n",
       "0  Female               0      Yes         Yes       9            Yes   \n",
       "1    Male               0       No          No       9            Yes   \n",
       "2    Male               0       No          No       4            Yes   \n",
       "3    Male               1      Yes          No      13            Yes   \n",
       "4  Female               1      Yes          No       3            Yes   \n",
       "\n",
       "   multiple_lines  online_security  online_backup  device_protection  \\\n",
       "0              No               No            Yes                 No   \n",
       "1             Yes               No             No                 No   \n",
       "2              No               No             No                Yes   \n",
       "3              No               No            Yes                Yes   \n",
       "4              No               No             No                 No   \n",
       "\n",
       "   tech_support  streaming_tv  streaming_movies  paperless_billing  \\\n",
       "0           Yes           Yes                No                Yes   \n",
       "1            No            No               Yes                 No   \n",
       "2            No            No                No                Yes   \n",
       "3            No           Yes               Yes                Yes   \n",
       "4           Yes           Yes                No                Yes   \n",
       "\n",
       "   monthly_charges total_charges churn   contract_type  internet_service_type  \\\n",
       "0             65.6         593.3    No        One year                    DSL   \n",
       "1             59.9         542.4    No  Month-to-month                    DSL   \n",
       "2             73.9        280.85   Yes  Month-to-month            Fiber optic   \n",
       "3             98.0       1237.85   Yes  Month-to-month            Fiber optic   \n",
       "4             83.9         267.4   Yes  Month-to-month            Fiber optic   \n",
       "\n",
       "       payment_type  contract_type  dependents  device_protection  gender  \\\n",
       "0      Mailed check            0.0         0.0                0.0     1.0   \n",
       "1      Mailed check            0.0         0.0                0.0     0.0   \n",
       "2  Electronic check            0.0         1.0                0.0     0.0   \n",
       "3  Electronic check            0.0         0.0                0.0     0.0   \n",
       "4      Mailed check            0.0         0.0                0.0     0.0   \n",
       "\n",
       "   internet_service_type  multiple_lines  online_backup  online_security  \\\n",
       "0                    0.0             0.0            0.0              0.0   \n",
       "1                    0.0             0.0            0.0              0.0   \n",
       "2                    0.0             0.0            0.0              0.0   \n",
       "3                    0.0             0.0            0.0              0.0   \n",
       "4                    0.0             1.0            0.0              0.0   \n",
       "\n",
       "   paperless_billing  partner  payment_type  phone_service  streaming_movies  \\\n",
       "0                0.0      0.0           0.0            0.0               0.0   \n",
       "1                0.0      1.0           0.0            0.0               0.0   \n",
       "2                0.0      0.0           0.0            0.0               0.0   \n",
       "3                0.0      0.0           0.0            1.0               0.0   \n",
       "4                0.0      0.0           0.0            0.0               0.0   \n",
       "\n",
       "   streaming_tv  tech_support  \n",
       "0           0.0           0.0  \n",
       "1           0.0           0.0  \n",
       "2           0.0           0.0  \n",
       "3           0.0           0.0  \n",
       "4           0.0           0.0  "
      ]
     },
     "execution_count": 17,
     "metadata": {},
     "output_type": "execute_result"
    }
   ],
   "source": [
    "telco.head()"
   ]
  },
  {
   "cell_type": "markdown",
   "id": "3147fb0d",
   "metadata": {},
   "source": [
    "Determine if certain columns should be dropped\n"
   ]
  },
  {
   "cell_type": "code",
   "execution_count": 18,
   "id": "54153702",
   "metadata": {},
   "outputs": [
    {
     "data": {
      "text/html": [
       "<div>\n",
       "<style scoped>\n",
       "    .dataframe tbody tr th:only-of-type {\n",
       "        vertical-align: middle;\n",
       "    }\n",
       "\n",
       "    .dataframe tbody tr th {\n",
       "        vertical-align: top;\n",
       "    }\n",
       "\n",
       "    .dataframe thead th {\n",
       "        text-align: right;\n",
       "    }\n",
       "</style>\n",
       "<table border=\"1\" class=\"dataframe\">\n",
       "  <thead>\n",
       "    <tr style=\"text-align: right;\">\n",
       "      <th></th>\n",
       "      <th>gender</th>\n",
       "      <th>senior_citizen</th>\n",
       "      <th>partner</th>\n",
       "      <th>tenure</th>\n",
       "      <th>phone_service</th>\n",
       "      <th>multiple_lines</th>\n",
       "      <th>online_security</th>\n",
       "      <th>online_backup</th>\n",
       "      <th>device_protection</th>\n",
       "      <th>tech_support</th>\n",
       "      <th>streaming_tv</th>\n",
       "      <th>streaming_movies</th>\n",
       "      <th>paperless_billing</th>\n",
       "      <th>monthly_charges</th>\n",
       "      <th>total_charges</th>\n",
       "      <th>churn</th>\n",
       "      <th>contract_type</th>\n",
       "      <th>internet_service_type</th>\n",
       "      <th>payment_type</th>\n",
       "      <th>contract_type</th>\n",
       "      <th>device_protection</th>\n",
       "      <th>gender</th>\n",
       "      <th>internet_service_type</th>\n",
       "      <th>multiple_lines</th>\n",
       "      <th>online_backup</th>\n",
       "      <th>online_security</th>\n",
       "      <th>paperless_billing</th>\n",
       "      <th>partner</th>\n",
       "      <th>payment_type</th>\n",
       "      <th>phone_service</th>\n",
       "      <th>streaming_movies</th>\n",
       "      <th>streaming_tv</th>\n",
       "      <th>tech_support</th>\n",
       "    </tr>\n",
       "  </thead>\n",
       "  <tbody>\n",
       "    <tr>\n",
       "      <th>0</th>\n",
       "      <td>Female</td>\n",
       "      <td>0</td>\n",
       "      <td>Yes</td>\n",
       "      <td>9</td>\n",
       "      <td>Yes</td>\n",
       "      <td>No</td>\n",
       "      <td>No</td>\n",
       "      <td>Yes</td>\n",
       "      <td>No</td>\n",
       "      <td>Yes</td>\n",
       "      <td>Yes</td>\n",
       "      <td>No</td>\n",
       "      <td>Yes</td>\n",
       "      <td>65.60</td>\n",
       "      <td>593.3</td>\n",
       "      <td>No</td>\n",
       "      <td>One year</td>\n",
       "      <td>DSL</td>\n",
       "      <td>Mailed check</td>\n",
       "      <td>0.0</td>\n",
       "      <td>0.0</td>\n",
       "      <td>1.0</td>\n",
       "      <td>0.0</td>\n",
       "      <td>0.0</td>\n",
       "      <td>0.0</td>\n",
       "      <td>0.0</td>\n",
       "      <td>0.0</td>\n",
       "      <td>0.0</td>\n",
       "      <td>0.0</td>\n",
       "      <td>0.0</td>\n",
       "      <td>0.0</td>\n",
       "      <td>0.0</td>\n",
       "      <td>0.0</td>\n",
       "    </tr>\n",
       "    <tr>\n",
       "      <th>1</th>\n",
       "      <td>Male</td>\n",
       "      <td>0</td>\n",
       "      <td>No</td>\n",
       "      <td>9</td>\n",
       "      <td>Yes</td>\n",
       "      <td>Yes</td>\n",
       "      <td>No</td>\n",
       "      <td>No</td>\n",
       "      <td>No</td>\n",
       "      <td>No</td>\n",
       "      <td>No</td>\n",
       "      <td>Yes</td>\n",
       "      <td>No</td>\n",
       "      <td>59.90</td>\n",
       "      <td>542.4</td>\n",
       "      <td>No</td>\n",
       "      <td>Month-to-month</td>\n",
       "      <td>DSL</td>\n",
       "      <td>Mailed check</td>\n",
       "      <td>0.0</td>\n",
       "      <td>0.0</td>\n",
       "      <td>0.0</td>\n",
       "      <td>0.0</td>\n",
       "      <td>0.0</td>\n",
       "      <td>0.0</td>\n",
       "      <td>0.0</td>\n",
       "      <td>0.0</td>\n",
       "      <td>1.0</td>\n",
       "      <td>0.0</td>\n",
       "      <td>0.0</td>\n",
       "      <td>0.0</td>\n",
       "      <td>0.0</td>\n",
       "      <td>0.0</td>\n",
       "    </tr>\n",
       "    <tr>\n",
       "      <th>2</th>\n",
       "      <td>Male</td>\n",
       "      <td>0</td>\n",
       "      <td>No</td>\n",
       "      <td>4</td>\n",
       "      <td>Yes</td>\n",
       "      <td>No</td>\n",
       "      <td>No</td>\n",
       "      <td>No</td>\n",
       "      <td>Yes</td>\n",
       "      <td>No</td>\n",
       "      <td>No</td>\n",
       "      <td>No</td>\n",
       "      <td>Yes</td>\n",
       "      <td>73.90</td>\n",
       "      <td>280.85</td>\n",
       "      <td>Yes</td>\n",
       "      <td>Month-to-month</td>\n",
       "      <td>Fiber optic</td>\n",
       "      <td>Electronic check</td>\n",
       "      <td>0.0</td>\n",
       "      <td>0.0</td>\n",
       "      <td>0.0</td>\n",
       "      <td>0.0</td>\n",
       "      <td>0.0</td>\n",
       "      <td>0.0</td>\n",
       "      <td>0.0</td>\n",
       "      <td>0.0</td>\n",
       "      <td>0.0</td>\n",
       "      <td>0.0</td>\n",
       "      <td>0.0</td>\n",
       "      <td>0.0</td>\n",
       "      <td>0.0</td>\n",
       "      <td>0.0</td>\n",
       "    </tr>\n",
       "    <tr>\n",
       "      <th>3</th>\n",
       "      <td>Male</td>\n",
       "      <td>1</td>\n",
       "      <td>Yes</td>\n",
       "      <td>13</td>\n",
       "      <td>Yes</td>\n",
       "      <td>No</td>\n",
       "      <td>No</td>\n",
       "      <td>Yes</td>\n",
       "      <td>Yes</td>\n",
       "      <td>No</td>\n",
       "      <td>Yes</td>\n",
       "      <td>Yes</td>\n",
       "      <td>Yes</td>\n",
       "      <td>98.00</td>\n",
       "      <td>1237.85</td>\n",
       "      <td>Yes</td>\n",
       "      <td>Month-to-month</td>\n",
       "      <td>Fiber optic</td>\n",
       "      <td>Electronic check</td>\n",
       "      <td>0.0</td>\n",
       "      <td>0.0</td>\n",
       "      <td>0.0</td>\n",
       "      <td>0.0</td>\n",
       "      <td>0.0</td>\n",
       "      <td>0.0</td>\n",
       "      <td>0.0</td>\n",
       "      <td>0.0</td>\n",
       "      <td>0.0</td>\n",
       "      <td>0.0</td>\n",
       "      <td>1.0</td>\n",
       "      <td>0.0</td>\n",
       "      <td>0.0</td>\n",
       "      <td>0.0</td>\n",
       "    </tr>\n",
       "    <tr>\n",
       "      <th>4</th>\n",
       "      <td>Female</td>\n",
       "      <td>1</td>\n",
       "      <td>Yes</td>\n",
       "      <td>3</td>\n",
       "      <td>Yes</td>\n",
       "      <td>No</td>\n",
       "      <td>No</td>\n",
       "      <td>No</td>\n",
       "      <td>No</td>\n",
       "      <td>Yes</td>\n",
       "      <td>Yes</td>\n",
       "      <td>No</td>\n",
       "      <td>Yes</td>\n",
       "      <td>83.90</td>\n",
       "      <td>267.4</td>\n",
       "      <td>Yes</td>\n",
       "      <td>Month-to-month</td>\n",
       "      <td>Fiber optic</td>\n",
       "      <td>Mailed check</td>\n",
       "      <td>0.0</td>\n",
       "      <td>0.0</td>\n",
       "      <td>0.0</td>\n",
       "      <td>0.0</td>\n",
       "      <td>1.0</td>\n",
       "      <td>0.0</td>\n",
       "      <td>0.0</td>\n",
       "      <td>0.0</td>\n",
       "      <td>0.0</td>\n",
       "      <td>0.0</td>\n",
       "      <td>0.0</td>\n",
       "      <td>0.0</td>\n",
       "      <td>0.0</td>\n",
       "      <td>0.0</td>\n",
       "    </tr>\n",
       "    <tr>\n",
       "      <th>...</th>\n",
       "      <td>...</td>\n",
       "      <td>...</td>\n",
       "      <td>...</td>\n",
       "      <td>...</td>\n",
       "      <td>...</td>\n",
       "      <td>...</td>\n",
       "      <td>...</td>\n",
       "      <td>...</td>\n",
       "      <td>...</td>\n",
       "      <td>...</td>\n",
       "      <td>...</td>\n",
       "      <td>...</td>\n",
       "      <td>...</td>\n",
       "      <td>...</td>\n",
       "      <td>...</td>\n",
       "      <td>...</td>\n",
       "      <td>...</td>\n",
       "      <td>...</td>\n",
       "      <td>...</td>\n",
       "      <td>...</td>\n",
       "      <td>...</td>\n",
       "      <td>...</td>\n",
       "      <td>...</td>\n",
       "      <td>...</td>\n",
       "      <td>...</td>\n",
       "      <td>...</td>\n",
       "      <td>...</td>\n",
       "      <td>...</td>\n",
       "      <td>...</td>\n",
       "      <td>...</td>\n",
       "      <td>...</td>\n",
       "      <td>...</td>\n",
       "      <td>...</td>\n",
       "    </tr>\n",
       "    <tr>\n",
       "      <th>7038</th>\n",
       "      <td>Female</td>\n",
       "      <td>0</td>\n",
       "      <td>No</td>\n",
       "      <td>13</td>\n",
       "      <td>Yes</td>\n",
       "      <td>No</td>\n",
       "      <td>Yes</td>\n",
       "      <td>No</td>\n",
       "      <td>No</td>\n",
       "      <td>Yes</td>\n",
       "      <td>No</td>\n",
       "      <td>No</td>\n",
       "      <td>No</td>\n",
       "      <td>55.15</td>\n",
       "      <td>742.9</td>\n",
       "      <td>No</td>\n",
       "      <td>One year</td>\n",
       "      <td>DSL</td>\n",
       "      <td>Mailed check</td>\n",
       "      <td>NaN</td>\n",
       "      <td>NaN</td>\n",
       "      <td>NaN</td>\n",
       "      <td>NaN</td>\n",
       "      <td>NaN</td>\n",
       "      <td>NaN</td>\n",
       "      <td>NaN</td>\n",
       "      <td>NaN</td>\n",
       "      <td>NaN</td>\n",
       "      <td>NaN</td>\n",
       "      <td>NaN</td>\n",
       "      <td>NaN</td>\n",
       "      <td>NaN</td>\n",
       "      <td>NaN</td>\n",
       "    </tr>\n",
       "    <tr>\n",
       "      <th>7039</th>\n",
       "      <td>Male</td>\n",
       "      <td>0</td>\n",
       "      <td>Yes</td>\n",
       "      <td>22</td>\n",
       "      <td>Yes</td>\n",
       "      <td>Yes</td>\n",
       "      <td>No</td>\n",
       "      <td>No</td>\n",
       "      <td>No</td>\n",
       "      <td>No</td>\n",
       "      <td>No</td>\n",
       "      <td>Yes</td>\n",
       "      <td>Yes</td>\n",
       "      <td>85.10</td>\n",
       "      <td>1873.7</td>\n",
       "      <td>Yes</td>\n",
       "      <td>Month-to-month</td>\n",
       "      <td>Fiber optic</td>\n",
       "      <td>Electronic check</td>\n",
       "      <td>NaN</td>\n",
       "      <td>NaN</td>\n",
       "      <td>NaN</td>\n",
       "      <td>NaN</td>\n",
       "      <td>NaN</td>\n",
       "      <td>NaN</td>\n",
       "      <td>NaN</td>\n",
       "      <td>NaN</td>\n",
       "      <td>NaN</td>\n",
       "      <td>NaN</td>\n",
       "      <td>NaN</td>\n",
       "      <td>NaN</td>\n",
       "      <td>NaN</td>\n",
       "      <td>NaN</td>\n",
       "    </tr>\n",
       "    <tr>\n",
       "      <th>7040</th>\n",
       "      <td>Male</td>\n",
       "      <td>0</td>\n",
       "      <td>No</td>\n",
       "      <td>2</td>\n",
       "      <td>Yes</td>\n",
       "      <td>No</td>\n",
       "      <td>No</td>\n",
       "      <td>Yes</td>\n",
       "      <td>No</td>\n",
       "      <td>No</td>\n",
       "      <td>No</td>\n",
       "      <td>No</td>\n",
       "      <td>Yes</td>\n",
       "      <td>50.30</td>\n",
       "      <td>92.75</td>\n",
       "      <td>No</td>\n",
       "      <td>Month-to-month</td>\n",
       "      <td>DSL</td>\n",
       "      <td>Mailed check</td>\n",
       "      <td>NaN</td>\n",
       "      <td>NaN</td>\n",
       "      <td>NaN</td>\n",
       "      <td>NaN</td>\n",
       "      <td>NaN</td>\n",
       "      <td>NaN</td>\n",
       "      <td>NaN</td>\n",
       "      <td>NaN</td>\n",
       "      <td>NaN</td>\n",
       "      <td>NaN</td>\n",
       "      <td>NaN</td>\n",
       "      <td>NaN</td>\n",
       "      <td>NaN</td>\n",
       "      <td>NaN</td>\n",
       "    </tr>\n",
       "    <tr>\n",
       "      <th>7041</th>\n",
       "      <td>Male</td>\n",
       "      <td>0</td>\n",
       "      <td>Yes</td>\n",
       "      <td>67</td>\n",
       "      <td>Yes</td>\n",
       "      <td>No</td>\n",
       "      <td>Yes</td>\n",
       "      <td>No</td>\n",
       "      <td>Yes</td>\n",
       "      <td>Yes</td>\n",
       "      <td>No</td>\n",
       "      <td>Yes</td>\n",
       "      <td>No</td>\n",
       "      <td>67.85</td>\n",
       "      <td>4627.65</td>\n",
       "      <td>No</td>\n",
       "      <td>Two year</td>\n",
       "      <td>DSL</td>\n",
       "      <td>Mailed check</td>\n",
       "      <td>NaN</td>\n",
       "      <td>NaN</td>\n",
       "      <td>NaN</td>\n",
       "      <td>NaN</td>\n",
       "      <td>NaN</td>\n",
       "      <td>NaN</td>\n",
       "      <td>NaN</td>\n",
       "      <td>NaN</td>\n",
       "      <td>NaN</td>\n",
       "      <td>NaN</td>\n",
       "      <td>NaN</td>\n",
       "      <td>NaN</td>\n",
       "      <td>NaN</td>\n",
       "      <td>NaN</td>\n",
       "    </tr>\n",
       "    <tr>\n",
       "      <th>7042</th>\n",
       "      <td>Male</td>\n",
       "      <td>0</td>\n",
       "      <td>Yes</td>\n",
       "      <td>63</td>\n",
       "      <td>No</td>\n",
       "      <td>No phone service</td>\n",
       "      <td>Yes</td>\n",
       "      <td>Yes</td>\n",
       "      <td>Yes</td>\n",
       "      <td>No</td>\n",
       "      <td>Yes</td>\n",
       "      <td>Yes</td>\n",
       "      <td>No</td>\n",
       "      <td>59.00</td>\n",
       "      <td>3707.6</td>\n",
       "      <td>No</td>\n",
       "      <td>Two year</td>\n",
       "      <td>DSL</td>\n",
       "      <td>Electronic check</td>\n",
       "      <td>NaN</td>\n",
       "      <td>NaN</td>\n",
       "      <td>NaN</td>\n",
       "      <td>NaN</td>\n",
       "      <td>NaN</td>\n",
       "      <td>NaN</td>\n",
       "      <td>NaN</td>\n",
       "      <td>NaN</td>\n",
       "      <td>NaN</td>\n",
       "      <td>NaN</td>\n",
       "      <td>NaN</td>\n",
       "      <td>NaN</td>\n",
       "      <td>NaN</td>\n",
       "      <td>NaN</td>\n",
       "    </tr>\n",
       "  </tbody>\n",
       "</table>\n",
       "<p>7043 rows × 33 columns</p>\n",
       "</div>"
      ],
      "text/plain": [
       "      gender  senior_citizen  partner  tenure  phone_service  \\\n",
       "0     Female               0      Yes       9            Yes   \n",
       "1       Male               0       No       9            Yes   \n",
       "2       Male               0       No       4            Yes   \n",
       "3       Male               1      Yes      13            Yes   \n",
       "4     Female               1      Yes       3            Yes   \n",
       "...      ...             ...      ...     ...            ...   \n",
       "7038  Female               0       No      13            Yes   \n",
       "7039    Male               0      Yes      22            Yes   \n",
       "7040    Male               0       No       2            Yes   \n",
       "7041    Male               0      Yes      67            Yes   \n",
       "7042    Male               0      Yes      63             No   \n",
       "\n",
       "        multiple_lines  online_security  online_backup  device_protection  \\\n",
       "0                   No               No            Yes                 No   \n",
       "1                  Yes               No             No                 No   \n",
       "2                   No               No             No                Yes   \n",
       "3                   No               No            Yes                Yes   \n",
       "4                   No               No             No                 No   \n",
       "...                ...              ...            ...                ...   \n",
       "7038                No              Yes             No                 No   \n",
       "7039               Yes               No             No                 No   \n",
       "7040                No               No            Yes                 No   \n",
       "7041                No              Yes             No                Yes   \n",
       "7042  No phone service              Yes            Yes                Yes   \n",
       "\n",
       "      tech_support  streaming_tv  streaming_movies  paperless_billing  \\\n",
       "0              Yes           Yes                No                Yes   \n",
       "1               No            No               Yes                 No   \n",
       "2               No            No                No                Yes   \n",
       "3               No           Yes               Yes                Yes   \n",
       "4              Yes           Yes                No                Yes   \n",
       "...            ...           ...               ...                ...   \n",
       "7038           Yes            No                No                 No   \n",
       "7039            No            No               Yes                Yes   \n",
       "7040            No            No                No                Yes   \n",
       "7041           Yes            No               Yes                 No   \n",
       "7042            No           Yes               Yes                 No   \n",
       "\n",
       "      monthly_charges total_charges churn   contract_type  \\\n",
       "0               65.60         593.3    No        One year   \n",
       "1               59.90         542.4    No  Month-to-month   \n",
       "2               73.90        280.85   Yes  Month-to-month   \n",
       "3               98.00       1237.85   Yes  Month-to-month   \n",
       "4               83.90         267.4   Yes  Month-to-month   \n",
       "...               ...           ...   ...             ...   \n",
       "7038            55.15         742.9    No        One year   \n",
       "7039            85.10        1873.7   Yes  Month-to-month   \n",
       "7040            50.30         92.75    No  Month-to-month   \n",
       "7041            67.85       4627.65    No        Two year   \n",
       "7042            59.00        3707.6    No        Two year   \n",
       "\n",
       "      internet_service_type      payment_type  contract_type  \\\n",
       "0                       DSL      Mailed check            0.0   \n",
       "1                       DSL      Mailed check            0.0   \n",
       "2               Fiber optic  Electronic check            0.0   \n",
       "3               Fiber optic  Electronic check            0.0   \n",
       "4               Fiber optic      Mailed check            0.0   \n",
       "...                     ...               ...            ...   \n",
       "7038                    DSL      Mailed check            NaN   \n",
       "7039            Fiber optic  Electronic check            NaN   \n",
       "7040                    DSL      Mailed check            NaN   \n",
       "7041                    DSL      Mailed check            NaN   \n",
       "7042                    DSL  Electronic check            NaN   \n",
       "\n",
       "      device_protection  gender  internet_service_type  multiple_lines  \\\n",
       "0                   0.0     1.0                    0.0             0.0   \n",
       "1                   0.0     0.0                    0.0             0.0   \n",
       "2                   0.0     0.0                    0.0             0.0   \n",
       "3                   0.0     0.0                    0.0             0.0   \n",
       "4                   0.0     0.0                    0.0             1.0   \n",
       "...                 ...     ...                    ...             ...   \n",
       "7038                NaN     NaN                    NaN             NaN   \n",
       "7039                NaN     NaN                    NaN             NaN   \n",
       "7040                NaN     NaN                    NaN             NaN   \n",
       "7041                NaN     NaN                    NaN             NaN   \n",
       "7042                NaN     NaN                    NaN             NaN   \n",
       "\n",
       "      online_backup  online_security  paperless_billing  partner  \\\n",
       "0               0.0              0.0                0.0      0.0   \n",
       "1               0.0              0.0                0.0      1.0   \n",
       "2               0.0              0.0                0.0      0.0   \n",
       "3               0.0              0.0                0.0      0.0   \n",
       "4               0.0              0.0                0.0      0.0   \n",
       "...             ...              ...                ...      ...   \n",
       "7038            NaN              NaN                NaN      NaN   \n",
       "7039            NaN              NaN                NaN      NaN   \n",
       "7040            NaN              NaN                NaN      NaN   \n",
       "7041            NaN              NaN                NaN      NaN   \n",
       "7042            NaN              NaN                NaN      NaN   \n",
       "\n",
       "      payment_type  phone_service  streaming_movies  streaming_tv  \\\n",
       "0              0.0            0.0               0.0           0.0   \n",
       "1              0.0            0.0               0.0           0.0   \n",
       "2              0.0            0.0               0.0           0.0   \n",
       "3              0.0            1.0               0.0           0.0   \n",
       "4              0.0            0.0               0.0           0.0   \n",
       "...            ...            ...               ...           ...   \n",
       "7038           NaN            NaN               NaN           NaN   \n",
       "7039           NaN            NaN               NaN           NaN   \n",
       "7040           NaN            NaN               NaN           NaN   \n",
       "7041           NaN            NaN               NaN           NaN   \n",
       "7042           NaN            NaN               NaN           NaN   \n",
       "\n",
       "      tech_support  \n",
       "0              0.0  \n",
       "1              0.0  \n",
       "2              0.0  \n",
       "3              0.0  \n",
       "4              0.0  \n",
       "...            ...  \n",
       "7038           NaN  \n",
       "7039           NaN  \n",
       "7040           NaN  \n",
       "7041           NaN  \n",
       "7042           NaN  \n",
       "\n",
       "[7043 rows x 33 columns]"
      ]
     },
     "execution_count": 18,
     "metadata": {},
     "output_type": "execute_result"
    }
   ],
   "source": [
    "telco.drop(telco.columns[3], axis=1)"
   ]
  },
  {
   "cell_type": "markdown",
   "id": "ef3214cf",
   "metadata": {},
   "source": [
    "Determine if it would be valuable to bin some numeric columns\n"
   ]
  },
  {
   "cell_type": "code",
   "execution_count": 19,
   "id": "72ecaf61",
   "metadata": {},
   "outputs": [],
   "source": [
    "telco['tenure_bins'] = pd.qcut(telco['tenure'], q=10)"
   ]
  },
  {
   "cell_type": "code",
   "execution_count": 20,
   "id": "33cc5bb0",
   "metadata": {},
   "outputs": [],
   "source": [
    "telco['monthly_bins'] = pd.qcut(telco['monthly_charges'], q=10)"
   ]
  },
  {
   "cell_type": "code",
   "execution_count": 22,
   "id": "91851519",
   "metadata": {},
   "outputs": [
    {
     "data": {
      "text/html": [
       "<div>\n",
       "<style scoped>\n",
       "    .dataframe tbody tr th:only-of-type {\n",
       "        vertical-align: middle;\n",
       "    }\n",
       "\n",
       "    .dataframe tbody tr th {\n",
       "        vertical-align: top;\n",
       "    }\n",
       "\n",
       "    .dataframe thead th {\n",
       "        text-align: right;\n",
       "    }\n",
       "</style>\n",
       "<table border=\"1\" class=\"dataframe\">\n",
       "  <thead>\n",
       "    <tr style=\"text-align: right;\">\n",
       "      <th></th>\n",
       "      <th>gender</th>\n",
       "      <th>senior_citizen</th>\n",
       "      <th>partner</th>\n",
       "      <th>dependents</th>\n",
       "      <th>tenure</th>\n",
       "      <th>phone_service</th>\n",
       "      <th>multiple_lines</th>\n",
       "      <th>online_security</th>\n",
       "      <th>online_backup</th>\n",
       "      <th>device_protection</th>\n",
       "      <th>tech_support</th>\n",
       "      <th>streaming_tv</th>\n",
       "      <th>streaming_movies</th>\n",
       "      <th>paperless_billing</th>\n",
       "      <th>monthly_charges</th>\n",
       "      <th>total_charges</th>\n",
       "      <th>churn</th>\n",
       "      <th>contract_type</th>\n",
       "      <th>internet_service_type</th>\n",
       "      <th>payment_type</th>\n",
       "      <th>contract_type</th>\n",
       "      <th>dependents</th>\n",
       "      <th>device_protection</th>\n",
       "      <th>gender</th>\n",
       "      <th>internet_service_type</th>\n",
       "      <th>multiple_lines</th>\n",
       "      <th>online_backup</th>\n",
       "      <th>online_security</th>\n",
       "      <th>paperless_billing</th>\n",
       "      <th>partner</th>\n",
       "      <th>payment_type</th>\n",
       "      <th>phone_service</th>\n",
       "      <th>streaming_movies</th>\n",
       "      <th>streaming_tv</th>\n",
       "      <th>tech_support</th>\n",
       "      <th>tenure_bins</th>\n",
       "      <th>monthly_bins</th>\n",
       "    </tr>\n",
       "  </thead>\n",
       "  <tbody>\n",
       "    <tr>\n",
       "      <th>0</th>\n",
       "      <td>Female</td>\n",
       "      <td>0</td>\n",
       "      <td>Yes</td>\n",
       "      <td>Yes</td>\n",
       "      <td>9</td>\n",
       "      <td>Yes</td>\n",
       "      <td>No</td>\n",
       "      <td>No</td>\n",
       "      <td>Yes</td>\n",
       "      <td>No</td>\n",
       "      <td>Yes</td>\n",
       "      <td>Yes</td>\n",
       "      <td>No</td>\n",
       "      <td>Yes</td>\n",
       "      <td>65.6</td>\n",
       "      <td>593.3</td>\n",
       "      <td>No</td>\n",
       "      <td>One year</td>\n",
       "      <td>DSL</td>\n",
       "      <td>Mailed check</td>\n",
       "      <td>0.0</td>\n",
       "      <td>0.0</td>\n",
       "      <td>0.0</td>\n",
       "      <td>1.0</td>\n",
       "      <td>0.0</td>\n",
       "      <td>0.0</td>\n",
       "      <td>0.0</td>\n",
       "      <td>0.0</td>\n",
       "      <td>0.0</td>\n",
       "      <td>0.0</td>\n",
       "      <td>0.0</td>\n",
       "      <td>0.0</td>\n",
       "      <td>0.0</td>\n",
       "      <td>0.0</td>\n",
       "      <td>0.0</td>\n",
       "      <td>(6.0, 12.0]</td>\n",
       "      <td>(58.83, 70.35]</td>\n",
       "    </tr>\n",
       "    <tr>\n",
       "      <th>1</th>\n",
       "      <td>Male</td>\n",
       "      <td>0</td>\n",
       "      <td>No</td>\n",
       "      <td>No</td>\n",
       "      <td>9</td>\n",
       "      <td>Yes</td>\n",
       "      <td>Yes</td>\n",
       "      <td>No</td>\n",
       "      <td>No</td>\n",
       "      <td>No</td>\n",
       "      <td>No</td>\n",
       "      <td>No</td>\n",
       "      <td>Yes</td>\n",
       "      <td>No</td>\n",
       "      <td>59.9</td>\n",
       "      <td>542.4</td>\n",
       "      <td>No</td>\n",
       "      <td>Month-to-month</td>\n",
       "      <td>DSL</td>\n",
       "      <td>Mailed check</td>\n",
       "      <td>0.0</td>\n",
       "      <td>0.0</td>\n",
       "      <td>0.0</td>\n",
       "      <td>0.0</td>\n",
       "      <td>0.0</td>\n",
       "      <td>0.0</td>\n",
       "      <td>0.0</td>\n",
       "      <td>0.0</td>\n",
       "      <td>0.0</td>\n",
       "      <td>1.0</td>\n",
       "      <td>0.0</td>\n",
       "      <td>0.0</td>\n",
       "      <td>0.0</td>\n",
       "      <td>0.0</td>\n",
       "      <td>0.0</td>\n",
       "      <td>(6.0, 12.0]</td>\n",
       "      <td>(58.83, 70.35]</td>\n",
       "    </tr>\n",
       "    <tr>\n",
       "      <th>2</th>\n",
       "      <td>Male</td>\n",
       "      <td>0</td>\n",
       "      <td>No</td>\n",
       "      <td>No</td>\n",
       "      <td>4</td>\n",
       "      <td>Yes</td>\n",
       "      <td>No</td>\n",
       "      <td>No</td>\n",
       "      <td>No</td>\n",
       "      <td>Yes</td>\n",
       "      <td>No</td>\n",
       "      <td>No</td>\n",
       "      <td>No</td>\n",
       "      <td>Yes</td>\n",
       "      <td>73.9</td>\n",
       "      <td>280.85</td>\n",
       "      <td>Yes</td>\n",
       "      <td>Month-to-month</td>\n",
       "      <td>Fiber optic</td>\n",
       "      <td>Electronic check</td>\n",
       "      <td>0.0</td>\n",
       "      <td>1.0</td>\n",
       "      <td>0.0</td>\n",
       "      <td>0.0</td>\n",
       "      <td>0.0</td>\n",
       "      <td>0.0</td>\n",
       "      <td>0.0</td>\n",
       "      <td>0.0</td>\n",
       "      <td>0.0</td>\n",
       "      <td>0.0</td>\n",
       "      <td>0.0</td>\n",
       "      <td>0.0</td>\n",
       "      <td>0.0</td>\n",
       "      <td>0.0</td>\n",
       "      <td>0.0</td>\n",
       "      <td>(2.0, 6.0]</td>\n",
       "      <td>(70.35, 79.1]</td>\n",
       "    </tr>\n",
       "    <tr>\n",
       "      <th>3</th>\n",
       "      <td>Male</td>\n",
       "      <td>1</td>\n",
       "      <td>Yes</td>\n",
       "      <td>No</td>\n",
       "      <td>13</td>\n",
       "      <td>Yes</td>\n",
       "      <td>No</td>\n",
       "      <td>No</td>\n",
       "      <td>Yes</td>\n",
       "      <td>Yes</td>\n",
       "      <td>No</td>\n",
       "      <td>Yes</td>\n",
       "      <td>Yes</td>\n",
       "      <td>Yes</td>\n",
       "      <td>98.0</td>\n",
       "      <td>1237.85</td>\n",
       "      <td>Yes</td>\n",
       "      <td>Month-to-month</td>\n",
       "      <td>Fiber optic</td>\n",
       "      <td>Electronic check</td>\n",
       "      <td>0.0</td>\n",
       "      <td>0.0</td>\n",
       "      <td>0.0</td>\n",
       "      <td>0.0</td>\n",
       "      <td>0.0</td>\n",
       "      <td>0.0</td>\n",
       "      <td>0.0</td>\n",
       "      <td>0.0</td>\n",
       "      <td>0.0</td>\n",
       "      <td>0.0</td>\n",
       "      <td>0.0</td>\n",
       "      <td>1.0</td>\n",
       "      <td>0.0</td>\n",
       "      <td>0.0</td>\n",
       "      <td>0.0</td>\n",
       "      <td>(12.0, 20.0]</td>\n",
       "      <td>(94.25, 102.6]</td>\n",
       "    </tr>\n",
       "    <tr>\n",
       "      <th>4</th>\n",
       "      <td>Female</td>\n",
       "      <td>1</td>\n",
       "      <td>Yes</td>\n",
       "      <td>No</td>\n",
       "      <td>3</td>\n",
       "      <td>Yes</td>\n",
       "      <td>No</td>\n",
       "      <td>No</td>\n",
       "      <td>No</td>\n",
       "      <td>No</td>\n",
       "      <td>Yes</td>\n",
       "      <td>Yes</td>\n",
       "      <td>No</td>\n",
       "      <td>Yes</td>\n",
       "      <td>83.9</td>\n",
       "      <td>267.4</td>\n",
       "      <td>Yes</td>\n",
       "      <td>Month-to-month</td>\n",
       "      <td>Fiber optic</td>\n",
       "      <td>Mailed check</td>\n",
       "      <td>0.0</td>\n",
       "      <td>0.0</td>\n",
       "      <td>0.0</td>\n",
       "      <td>0.0</td>\n",
       "      <td>0.0</td>\n",
       "      <td>1.0</td>\n",
       "      <td>0.0</td>\n",
       "      <td>0.0</td>\n",
       "      <td>0.0</td>\n",
       "      <td>0.0</td>\n",
       "      <td>0.0</td>\n",
       "      <td>0.0</td>\n",
       "      <td>0.0</td>\n",
       "      <td>0.0</td>\n",
       "      <td>0.0</td>\n",
       "      <td>(2.0, 6.0]</td>\n",
       "      <td>(79.1, 85.5]</td>\n",
       "    </tr>\n",
       "  </tbody>\n",
       "</table>\n",
       "</div>"
      ],
      "text/plain": [
       "   gender  senior_citizen  partner  dependents  tenure  phone_service  \\\n",
       "0  Female               0      Yes         Yes       9            Yes   \n",
       "1    Male               0       No          No       9            Yes   \n",
       "2    Male               0       No          No       4            Yes   \n",
       "3    Male               1      Yes          No      13            Yes   \n",
       "4  Female               1      Yes          No       3            Yes   \n",
       "\n",
       "   multiple_lines  online_security  online_backup  device_protection  \\\n",
       "0              No               No            Yes                 No   \n",
       "1             Yes               No             No                 No   \n",
       "2              No               No             No                Yes   \n",
       "3              No               No            Yes                Yes   \n",
       "4              No               No             No                 No   \n",
       "\n",
       "   tech_support  streaming_tv  streaming_movies  paperless_billing  \\\n",
       "0           Yes           Yes                No                Yes   \n",
       "1            No            No               Yes                 No   \n",
       "2            No            No                No                Yes   \n",
       "3            No           Yes               Yes                Yes   \n",
       "4           Yes           Yes                No                Yes   \n",
       "\n",
       "   monthly_charges total_charges churn   contract_type  internet_service_type  \\\n",
       "0             65.6         593.3    No        One year                    DSL   \n",
       "1             59.9         542.4    No  Month-to-month                    DSL   \n",
       "2             73.9        280.85   Yes  Month-to-month            Fiber optic   \n",
       "3             98.0       1237.85   Yes  Month-to-month            Fiber optic   \n",
       "4             83.9         267.4   Yes  Month-to-month            Fiber optic   \n",
       "\n",
       "       payment_type  contract_type  dependents  device_protection  gender  \\\n",
       "0      Mailed check            0.0         0.0                0.0     1.0   \n",
       "1      Mailed check            0.0         0.0                0.0     0.0   \n",
       "2  Electronic check            0.0         1.0                0.0     0.0   \n",
       "3  Electronic check            0.0         0.0                0.0     0.0   \n",
       "4      Mailed check            0.0         0.0                0.0     0.0   \n",
       "\n",
       "   internet_service_type  multiple_lines  online_backup  online_security  \\\n",
       "0                    0.0             0.0            0.0              0.0   \n",
       "1                    0.0             0.0            0.0              0.0   \n",
       "2                    0.0             0.0            0.0              0.0   \n",
       "3                    0.0             0.0            0.0              0.0   \n",
       "4                    0.0             1.0            0.0              0.0   \n",
       "\n",
       "   paperless_billing  partner  payment_type  phone_service  streaming_movies  \\\n",
       "0                0.0      0.0           0.0            0.0               0.0   \n",
       "1                0.0      1.0           0.0            0.0               0.0   \n",
       "2                0.0      0.0           0.0            0.0               0.0   \n",
       "3                0.0      0.0           0.0            1.0               0.0   \n",
       "4                0.0      0.0           0.0            0.0               0.0   \n",
       "\n",
       "   streaming_tv  tech_support   tenure_bins    monthly_bins  \n",
       "0           0.0           0.0   (6.0, 12.0]  (58.83, 70.35]  \n",
       "1           0.0           0.0   (6.0, 12.0]  (58.83, 70.35]  \n",
       "2           0.0           0.0    (2.0, 6.0]   (70.35, 79.1]  \n",
       "3           0.0           0.0  (12.0, 20.0]  (94.25, 102.6]  \n",
       "4           0.0           0.0    (2.0, 6.0]    (79.1, 85.5]  "
      ]
     },
     "execution_count": 22,
     "metadata": {},
     "output_type": "execute_result"
    }
   ],
   "source": [
    "telco.head()"
   ]
  },
  {
   "cell_type": "markdown",
   "id": "4f670b48",
   "metadata": {},
   "source": [
    "Determine if it would be valuable to combine multiple columns into one.\n"
   ]
  },
  {
   "cell_type": "code",
   "execution_count": null,
   "id": "d86e8c78",
   "metadata": {},
   "outputs": [],
   "source": []
  },
  {
   "cell_type": "markdown",
   "id": "c0ab9047",
   "metadata": {},
   "source": [
    "What are your drivers of churn?\n",
    "\n",
    "Does it make sense to combine any features?\n",
    "\n",
    "Do you find any surprises?\n",
    "\n",
    "Document any and all findings and takeaways in your notebook using markdown.\n",
    "\n"
   ]
  },
  {
   "cell_type": "code",
   "execution_count": null,
   "id": "205ff940",
   "metadata": {},
   "outputs": [],
   "source": []
  }
 ],
 "metadata": {
  "kernelspec": {
   "display_name": "Python 3 (ipykernel)",
   "language": "python",
   "name": "python3"
  },
  "language_info": {
   "codemirror_mode": {
    "name": "ipython",
    "version": 3
   },
   "file_extension": ".py",
   "mimetype": "text/x-python",
   "name": "python",
   "nbconvert_exporter": "python",
   "pygments_lexer": "ipython3",
   "version": "3.9.13"
  }
 },
 "nbformat": 4,
 "nbformat_minor": 5
}
