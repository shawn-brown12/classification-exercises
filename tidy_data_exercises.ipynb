{
 "cells": [
  {
   "cell_type": "markdown",
   "id": "d7cfd6ad",
   "metadata": {},
   "source": [
    "## Exercises\n",
    "\n",
    "Do your work for this exercise in a jupyter notebook or python script named `tidy_data`. Save this work in your `classification-exercises` repo. Add, commit, and push your changes.\n",
    "\n",
    "1. Attendance Data\n",
    "\n",
    "    Read the data from the `attendance` table and calculate an attendance percentage for each student. One half day is worth 50% of a full day, and 10 tardies is equal to one absence.\n",
    "    \n",
    "    You should end up with something like this:\n",
    "\n",
    "        name\n",
    "        Billy    0.5250\n",
    "        Jane     0.6875\n",
    "        John     0.9125\n",
    "        Sally    0.7625\n",
    "        Name: grade, dtype: float64\n"
   ]
  },
  {
   "cell_type": "code",
   "execution_count": 97,
   "id": "8eb8c301",
   "metadata": {},
   "outputs": [],
   "source": [
    "import pandas as pd\n",
    "import numpy as np\n",
    "from env import get_connection\n",
    "import seaborn as sns\n",
    "import matplotlib.pyplot as plt\n",
    "from pydataset import data\n",
    "import os\n",
    "from scipy import stats\n",
    "\n",
    "#turn off the pink warning boxes\n",
    "import warnings\n",
    "warnings.filterwarnings('ignore')\n",
    "\n",
    "from sklearn.model_selection import train_test_split\n",
    "from sklearn.impute import SimpleImputer\n",
    "\n",
    "import acquire\n",
    "import prepare\n",
    "\n",
    "from env import get_connection\n",
    "pd.options.display.max_columns = None\n",
    "\n",
    "%matplotlib inline"
   ]
  },
  {
   "cell_type": "code",
   "execution_count": 76,
   "id": "3a80d11c",
   "metadata": {},
   "outputs": [],
   "source": [
    "def get_attendance_data():\n",
    "    if os.path.isfile('attendance.csv'):\n",
    "        return pd.read_csv('attendance.csv')\n",
    "    else:\n",
    "        url = get_connection('tidy_data')\n",
    "        query = '''\n",
    "                SELECT *\n",
    "                FROM attendance\n",
    "                '''\n",
    "        attendance = pd.read_sql(query, url)\n",
    "        attendance.to_csv('attendance.csv')\n",
    "        attendance.drop(columns='Unnamed: 0.1')\n",
    "        return attendance"
   ]
  },
  {
   "cell_type": "code",
   "execution_count": 77,
   "id": "a7429c3d",
   "metadata": {},
   "outputs": [],
   "source": [
    "attendance = get_attendance_data()"
   ]
  },
  {
   "cell_type": "code",
   "execution_count": 78,
   "id": "252fe266",
   "metadata": {},
   "outputs": [
    {
     "data": {
      "text/html": [
       "<div>\n",
       "<style scoped>\n",
       "    .dataframe tbody tr th:only-of-type {\n",
       "        vertical-align: middle;\n",
       "    }\n",
       "\n",
       "    .dataframe tbody tr th {\n",
       "        vertical-align: top;\n",
       "    }\n",
       "\n",
       "    .dataframe thead th {\n",
       "        text-align: right;\n",
       "    }\n",
       "</style>\n",
       "<table border=\"1\" class=\"dataframe\">\n",
       "  <thead>\n",
       "    <tr style=\"text-align: right;\">\n",
       "      <th></th>\n",
       "      <th>Unnamed: 0.1</th>\n",
       "      <th>Unnamed: 0</th>\n",
       "      <th>2018-01-01</th>\n",
       "      <th>2018-01-02</th>\n",
       "      <th>2018-01-03</th>\n",
       "      <th>2018-01-04</th>\n",
       "      <th>2018-01-05</th>\n",
       "      <th>2018-01-06</th>\n",
       "      <th>2018-01-07</th>\n",
       "      <th>2018-01-08</th>\n",
       "    </tr>\n",
       "  </thead>\n",
       "  <tbody>\n",
       "    <tr>\n",
       "      <th>0</th>\n",
       "      <td>0</td>\n",
       "      <td>Sally</td>\n",
       "      <td>P</td>\n",
       "      <td>T</td>\n",
       "      <td>T</td>\n",
       "      <td>H</td>\n",
       "      <td>P</td>\n",
       "      <td>A</td>\n",
       "      <td>T</td>\n",
       "      <td>T</td>\n",
       "    </tr>\n",
       "    <tr>\n",
       "      <th>1</th>\n",
       "      <td>1</td>\n",
       "      <td>Jane</td>\n",
       "      <td>A</td>\n",
       "      <td>P</td>\n",
       "      <td>T</td>\n",
       "      <td>T</td>\n",
       "      <td>T</td>\n",
       "      <td>T</td>\n",
       "      <td>A</td>\n",
       "      <td>T</td>\n",
       "    </tr>\n",
       "    <tr>\n",
       "      <th>2</th>\n",
       "      <td>2</td>\n",
       "      <td>Billy</td>\n",
       "      <td>A</td>\n",
       "      <td>T</td>\n",
       "      <td>A</td>\n",
       "      <td>A</td>\n",
       "      <td>H</td>\n",
       "      <td>T</td>\n",
       "      <td>P</td>\n",
       "      <td>T</td>\n",
       "    </tr>\n",
       "    <tr>\n",
       "      <th>3</th>\n",
       "      <td>3</td>\n",
       "      <td>John</td>\n",
       "      <td>P</td>\n",
       "      <td>T</td>\n",
       "      <td>H</td>\n",
       "      <td>P</td>\n",
       "      <td>P</td>\n",
       "      <td>T</td>\n",
       "      <td>P</td>\n",
       "      <td>P</td>\n",
       "    </tr>\n",
       "  </tbody>\n",
       "</table>\n",
       "</div>"
      ],
      "text/plain": [
       "   Unnamed: 0.1 Unnamed: 0 2018-01-01 2018-01-02 2018-01-03 2018-01-04  \\\n",
       "0             0      Sally          P          T          T          H   \n",
       "1             1       Jane          A          P          T          T   \n",
       "2             2      Billy          A          T          A          A   \n",
       "3             3       John          P          T          H          P   \n",
       "\n",
       "  2018-01-05 2018-01-06 2018-01-07 2018-01-08  \n",
       "0          P          A          T          T  \n",
       "1          T          T          A          T  \n",
       "2          H          T          P          T  \n",
       "3          P          T          P          P  "
      ]
     },
     "execution_count": 78,
     "metadata": {},
     "output_type": "execute_result"
    }
   ],
   "source": [
    "attendance.head()"
   ]
  },
  {
   "cell_type": "code",
   "execution_count": 64,
   "id": "fdc34edd",
   "metadata": {},
   "outputs": [],
   "source": [
    "# rename columns in the way we want it represented as categories in the day column. \n",
    "tidy_data = tidy_data.drop(columns='Unnamed: 0.1')"
   ]
  },
  {
   "cell_type": "code",
   "execution_count": 65,
   "id": "26582c08",
   "metadata": {},
   "outputs": [],
   "source": [
    "tidy_data.columns = ['name', '01-01', '01-02', '01-03', '01-04', '01-05', '01-06', '01-07', '01-08']"
   ]
  },
  {
   "cell_type": "code",
   "execution_count": 66,
   "id": "25026901",
   "metadata": {},
   "outputs": [
    {
     "data": {
      "text/html": [
       "<div>\n",
       "<style scoped>\n",
       "    .dataframe tbody tr th:only-of-type {\n",
       "        vertical-align: middle;\n",
       "    }\n",
       "\n",
       "    .dataframe tbody tr th {\n",
       "        vertical-align: top;\n",
       "    }\n",
       "\n",
       "    .dataframe thead th {\n",
       "        text-align: right;\n",
       "    }\n",
       "</style>\n",
       "<table border=\"1\" class=\"dataframe\">\n",
       "  <thead>\n",
       "    <tr style=\"text-align: right;\">\n",
       "      <th></th>\n",
       "      <th>name</th>\n",
       "      <th>01-01</th>\n",
       "      <th>01-02</th>\n",
       "      <th>01-03</th>\n",
       "      <th>01-04</th>\n",
       "      <th>01-05</th>\n",
       "      <th>01-06</th>\n",
       "      <th>01-07</th>\n",
       "      <th>01-08</th>\n",
       "    </tr>\n",
       "  </thead>\n",
       "  <tbody>\n",
       "    <tr>\n",
       "      <th>0</th>\n",
       "      <td>Sally</td>\n",
       "      <td>P</td>\n",
       "      <td>T</td>\n",
       "      <td>T</td>\n",
       "      <td>H</td>\n",
       "      <td>P</td>\n",
       "      <td>A</td>\n",
       "      <td>T</td>\n",
       "      <td>T</td>\n",
       "    </tr>\n",
       "    <tr>\n",
       "      <th>1</th>\n",
       "      <td>Jane</td>\n",
       "      <td>A</td>\n",
       "      <td>P</td>\n",
       "      <td>T</td>\n",
       "      <td>T</td>\n",
       "      <td>T</td>\n",
       "      <td>T</td>\n",
       "      <td>A</td>\n",
       "      <td>T</td>\n",
       "    </tr>\n",
       "    <tr>\n",
       "      <th>2</th>\n",
       "      <td>Billy</td>\n",
       "      <td>A</td>\n",
       "      <td>T</td>\n",
       "      <td>A</td>\n",
       "      <td>A</td>\n",
       "      <td>H</td>\n",
       "      <td>T</td>\n",
       "      <td>P</td>\n",
       "      <td>T</td>\n",
       "    </tr>\n",
       "    <tr>\n",
       "      <th>3</th>\n",
       "      <td>John</td>\n",
       "      <td>P</td>\n",
       "      <td>T</td>\n",
       "      <td>H</td>\n",
       "      <td>P</td>\n",
       "      <td>P</td>\n",
       "      <td>T</td>\n",
       "      <td>P</td>\n",
       "      <td>P</td>\n",
       "    </tr>\n",
       "  </tbody>\n",
       "</table>\n",
       "</div>"
      ],
      "text/plain": [
       "    name 01-01 01-02 01-03 01-04 01-05 01-06 01-07 01-08\n",
       "0  Sally     P     T     T     H     P     A     T     T\n",
       "1   Jane     A     P     T     T     T     T     A     T\n",
       "2  Billy     A     T     A     A     H     T     P     T\n",
       "3   John     P     T     H     P     P     T     P     P"
      ]
     },
     "execution_count": 66,
     "metadata": {},
     "output_type": "execute_result"
    }
   ],
   "source": [
    "tidy_data.head()"
   ]
  },
  {
   "cell_type": "code",
   "execution_count": 67,
   "id": "d0a84e90",
   "metadata": {},
   "outputs": [],
   "source": [
    "# melt the data into 3 columns: product, year, and sales\n",
    "tidy_data = tidy_data.melt(id_vars=['name'],\n",
    "                         var_name='days',\n",
    "                         value_name='attendance')"
   ]
  },
  {
   "cell_type": "code",
   "execution_count": 68,
   "id": "710aff44",
   "metadata": {},
   "outputs": [],
   "source": [
    "tidy_data['attendance'] = tidy_data['attendance'].map({'A': 0, 'H':.5, 'T':.9, 'P':1})"
   ]
  },
  {
   "cell_type": "code",
   "execution_count": 69,
   "id": "120117e5",
   "metadata": {},
   "outputs": [
    {
     "data": {
      "text/html": [
       "<div>\n",
       "<style scoped>\n",
       "    .dataframe tbody tr th:only-of-type {\n",
       "        vertical-align: middle;\n",
       "    }\n",
       "\n",
       "    .dataframe tbody tr th {\n",
       "        vertical-align: top;\n",
       "    }\n",
       "\n",
       "    .dataframe thead th {\n",
       "        text-align: right;\n",
       "    }\n",
       "</style>\n",
       "<table border=\"1\" class=\"dataframe\">\n",
       "  <thead>\n",
       "    <tr style=\"text-align: right;\">\n",
       "      <th></th>\n",
       "      <th>name</th>\n",
       "      <th>days</th>\n",
       "      <th>attendance</th>\n",
       "    </tr>\n",
       "  </thead>\n",
       "  <tbody>\n",
       "    <tr>\n",
       "      <th>0</th>\n",
       "      <td>Sally</td>\n",
       "      <td>01-01</td>\n",
       "      <td>1.0</td>\n",
       "    </tr>\n",
       "    <tr>\n",
       "      <th>1</th>\n",
       "      <td>Jane</td>\n",
       "      <td>01-01</td>\n",
       "      <td>0.0</td>\n",
       "    </tr>\n",
       "    <tr>\n",
       "      <th>2</th>\n",
       "      <td>Billy</td>\n",
       "      <td>01-01</td>\n",
       "      <td>0.0</td>\n",
       "    </tr>\n",
       "    <tr>\n",
       "      <th>3</th>\n",
       "      <td>John</td>\n",
       "      <td>01-01</td>\n",
       "      <td>1.0</td>\n",
       "    </tr>\n",
       "    <tr>\n",
       "      <th>4</th>\n",
       "      <td>Sally</td>\n",
       "      <td>01-02</td>\n",
       "      <td>0.9</td>\n",
       "    </tr>\n",
       "  </tbody>\n",
       "</table>\n",
       "</div>"
      ],
      "text/plain": [
       "    name   days  attendance\n",
       "0  Sally  01-01         1.0\n",
       "1   Jane  01-01         0.0\n",
       "2  Billy  01-01         0.0\n",
       "3   John  01-01         1.0\n",
       "4  Sally  01-02         0.9"
      ]
     },
     "execution_count": 69,
     "metadata": {},
     "output_type": "execute_result"
    }
   ],
   "source": [
    "tidy_data.head()"
   ]
  },
  {
   "cell_type": "code",
   "execution_count": 70,
   "id": "6a1bee89",
   "metadata": {},
   "outputs": [
    {
     "data": {
      "text/plain": [
       "name\n",
       "Billy    0.5250\n",
       "Jane     0.6875\n",
       "John     0.9125\n",
       "Sally    0.7625\n",
       "Name: attendance, dtype: float64"
      ]
     },
     "execution_count": 70,
     "metadata": {},
     "output_type": "execute_result"
    }
   ],
   "source": [
    "tidy_data.groupby('name')['attendance'].mean()"
   ]
  },
  {
   "cell_type": "markdown",
   "id": "c49033e1",
   "metadata": {},
   "source": [
    "2. Coffee Levels\n",
    "\n",
    "    1. Read the `coffee_levels` table.\n",
    "    1. Transform the data so that each carafe is in it's own column.\n",
    "    1. Is this the best shape for the data?"
   ]
  },
  {
   "cell_type": "code",
   "execution_count": 98,
   "id": "b559ca0a",
   "metadata": {},
   "outputs": [],
   "source": [
    "def get_coffee_data():\n",
    "    if os.path.isfile('coffee_levels.csv'):\n",
    "        return pd.read_csv('coffee_levels.csv')\n",
    "    else:\n",
    "        url = get_connection('tidy_data')\n",
    "        query = '''\n",
    "                SELECT *\n",
    "                FROM coffee_levels;\n",
    "                '''\n",
    "        coffee_levels = pd.read_sql(query, url)\n",
    "        coffee_levels.to_csv('coffee_levels.csv')\n",
    "        coffee_levels.drop(columns='Unnamed: 0.0')\n",
    "        return coffee_levels"
   ]
  },
  {
   "cell_type": "code",
   "execution_count": 99,
   "id": "a09b6d42",
   "metadata": {},
   "outputs": [],
   "source": [
    "coffee = get_coffee_data()"
   ]
  },
  {
   "cell_type": "code",
   "execution_count": 100,
   "id": "37536b90",
   "metadata": {},
   "outputs": [
    {
     "data": {
      "text/html": [
       "<div>\n",
       "<style scoped>\n",
       "    .dataframe tbody tr th:only-of-type {\n",
       "        vertical-align: middle;\n",
       "    }\n",
       "\n",
       "    .dataframe tbody tr th {\n",
       "        vertical-align: top;\n",
       "    }\n",
       "\n",
       "    .dataframe thead th {\n",
       "        text-align: right;\n",
       "    }\n",
       "</style>\n",
       "<table border=\"1\" class=\"dataframe\">\n",
       "  <thead>\n",
       "    <tr style=\"text-align: right;\">\n",
       "      <th></th>\n",
       "      <th>Unnamed: 0</th>\n",
       "      <th>hour</th>\n",
       "      <th>coffee_carafe</th>\n",
       "      <th>coffee_amount</th>\n",
       "    </tr>\n",
       "  </thead>\n",
       "  <tbody>\n",
       "    <tr>\n",
       "      <th>0</th>\n",
       "      <td>0</td>\n",
       "      <td>8</td>\n",
       "      <td>x</td>\n",
       "      <td>0.816164</td>\n",
       "    </tr>\n",
       "    <tr>\n",
       "      <th>1</th>\n",
       "      <td>1</td>\n",
       "      <td>9</td>\n",
       "      <td>x</td>\n",
       "      <td>0.451018</td>\n",
       "    </tr>\n",
       "    <tr>\n",
       "      <th>2</th>\n",
       "      <td>2</td>\n",
       "      <td>10</td>\n",
       "      <td>x</td>\n",
       "      <td>0.843279</td>\n",
       "    </tr>\n",
       "    <tr>\n",
       "      <th>3</th>\n",
       "      <td>3</td>\n",
       "      <td>11</td>\n",
       "      <td>x</td>\n",
       "      <td>0.335533</td>\n",
       "    </tr>\n",
       "    <tr>\n",
       "      <th>4</th>\n",
       "      <td>4</td>\n",
       "      <td>12</td>\n",
       "      <td>x</td>\n",
       "      <td>0.898291</td>\n",
       "    </tr>\n",
       "  </tbody>\n",
       "</table>\n",
       "</div>"
      ],
      "text/plain": [
       "   Unnamed: 0  hour coffee_carafe  coffee_amount\n",
       "0           0     8             x       0.816164\n",
       "1           1     9             x       0.451018\n",
       "2           2    10             x       0.843279\n",
       "3           3    11             x       0.335533\n",
       "4           4    12             x       0.898291"
      ]
     },
     "execution_count": 100,
     "metadata": {},
     "output_type": "execute_result"
    }
   ],
   "source": [
    "coffee.head()"
   ]
  },
  {
   "cell_type": "code",
   "execution_count": null,
   "id": "3c411a92",
   "metadata": {},
   "outputs": [],
   "source": []
  },
  {
   "cell_type": "code",
   "execution_count": null,
   "id": "5c3e4f50",
   "metadata": {},
   "outputs": [],
   "source": []
  },
  {
   "cell_type": "markdown",
   "id": "fd689d83",
   "metadata": {},
   "source": [
    "3. Cake Recipes\n",
    "\n",
    "    1. Read the `cake_recipes` table. This data set contains cake tastiness scores for combinations of different recipes, oven rack positions, and oven temperatures.\n",
    "    1. Tidy the data as necessary.\n",
    "    1. Which recipe, on average, is the best? recipe b\n",
    "    1. Which oven temperature, on average, produces the best results? 275\n",
    "    1. Which combination of recipe, rack position, and temperature gives the best result? recipe b, bottom rack, 300 degrees"
   ]
  },
  {
   "cell_type": "code",
   "execution_count": null,
   "id": "80e12c69",
   "metadata": {},
   "outputs": [],
   "source": []
  }
 ],
 "metadata": {
  "kernelspec": {
   "display_name": "Python 3 (ipykernel)",
   "language": "python",
   "name": "python3"
  },
  "language_info": {
   "codemirror_mode": {
    "name": "ipython",
    "version": 3
   },
   "file_extension": ".py",
   "mimetype": "text/x-python",
   "name": "python",
   "nbconvert_exporter": "python",
   "pygments_lexer": "ipython3",
   "version": "3.9.13"
  }
 },
 "nbformat": 4,
 "nbformat_minor": 5
}
